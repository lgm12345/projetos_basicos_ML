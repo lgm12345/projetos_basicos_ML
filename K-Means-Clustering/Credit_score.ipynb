{
 "cells": [
  {
   "cell_type": "code",
   "execution_count": 1,
   "id": "bd6fd4b7-5d7e-4431-914c-b5a5a47e4de6",
   "metadata": {},
   "outputs": [],
   "source": [
    "import pandas as pd\n",
    "import matplotlib.pyplot as plt\n",
    "import seaborn as sns\n",
    "import numpy as np"
   ]
  },
  {
   "cell_type": "code",
   "execution_count": 51,
   "id": "96e2e810-62c6-4d9e-ab81-ac91b58775b6",
   "metadata": {},
   "outputs": [
    {
     "data": {
      "text/html": [
       "<div>\n",
       "<style scoped>\n",
       "    .dataframe tbody tr th:only-of-type {\n",
       "        vertical-align: middle;\n",
       "    }\n",
       "\n",
       "    .dataframe tbody tr th {\n",
       "        vertical-align: top;\n",
       "    }\n",
       "\n",
       "    .dataframe thead th {\n",
       "        text-align: right;\n",
       "    }\n",
       "</style>\n",
       "<table border=\"1\" class=\"dataframe\">\n",
       "  <thead>\n",
       "    <tr style=\"text-align: right;\">\n",
       "      <th></th>\n",
       "      <th>default</th>\n",
       "      <th>conta_corrente</th>\n",
       "      <th>prazo_emprestimo_meses</th>\n",
       "      <th>historico_credito</th>\n",
       "      <th>proposito_emprestimo</th>\n",
       "      <th>valor_emprestimo</th>\n",
       "      <th>reserva_cc</th>\n",
       "      <th>tempo_emprego_atual</th>\n",
       "      <th>taxa_comp_salario</th>\n",
       "      <th>sexo_est_civil</th>\n",
       "      <th>...</th>\n",
       "      <th>anos_residencia_atual</th>\n",
       "      <th>propriedade</th>\n",
       "      <th>idade</th>\n",
       "      <th>outros_planos_financiamento</th>\n",
       "      <th>tipo_residencia</th>\n",
       "      <th>n_creditos_banco</th>\n",
       "      <th>status_emprego</th>\n",
       "      <th>n_dependentes</th>\n",
       "      <th>telefone</th>\n",
       "      <th>trabalhador_estrangeiro</th>\n",
       "    </tr>\n",
       "  </thead>\n",
       "  <tbody>\n",
       "    <tr>\n",
       "      <th>0</th>\n",
       "      <td>0</td>\n",
       "      <td>&lt; 0 DM</td>\n",
       "      <td>6</td>\n",
       "      <td>critical account/ other credits existing (not ...</td>\n",
       "      <td>domestic appliances</td>\n",
       "      <td>1169</td>\n",
       "      <td>unknown/ no savings account</td>\n",
       "      <td>.. &gt;= 7 years</td>\n",
       "      <td>4</td>\n",
       "      <td>male : single</td>\n",
       "      <td>...</td>\n",
       "      <td>4</td>\n",
       "      <td>real estate</td>\n",
       "      <td>67</td>\n",
       "      <td>none</td>\n",
       "      <td>own</td>\n",
       "      <td>2</td>\n",
       "      <td>skilled employee / official</td>\n",
       "      <td>1</td>\n",
       "      <td>yes, registered under the customers name</td>\n",
       "      <td>yes</td>\n",
       "    </tr>\n",
       "    <tr>\n",
       "      <th>1</th>\n",
       "      <td>1</td>\n",
       "      <td>0 &lt;= ... &lt; 200 DM</td>\n",
       "      <td>48</td>\n",
       "      <td>existing credits paid back duly till now</td>\n",
       "      <td>domestic appliances</td>\n",
       "      <td>5951</td>\n",
       "      <td>... &lt; 100 DM</td>\n",
       "      <td>1 &lt;= ... &lt; 4 years</td>\n",
       "      <td>2</td>\n",
       "      <td>female : divorced/separated/married</td>\n",
       "      <td>...</td>\n",
       "      <td>2</td>\n",
       "      <td>real estate</td>\n",
       "      <td>22</td>\n",
       "      <td>none</td>\n",
       "      <td>own</td>\n",
       "      <td>1</td>\n",
       "      <td>skilled employee / official</td>\n",
       "      <td>1</td>\n",
       "      <td>none</td>\n",
       "      <td>yes</td>\n",
       "    </tr>\n",
       "    <tr>\n",
       "      <th>2</th>\n",
       "      <td>0</td>\n",
       "      <td>no checking account</td>\n",
       "      <td>12</td>\n",
       "      <td>critical account/ other credits existing (not ...</td>\n",
       "      <td>(vacation - does not exist?)</td>\n",
       "      <td>2096</td>\n",
       "      <td>... &lt; 100 DM</td>\n",
       "      <td>4 &lt;= ... &lt; 7 years</td>\n",
       "      <td>2</td>\n",
       "      <td>male : single</td>\n",
       "      <td>...</td>\n",
       "      <td>3</td>\n",
       "      <td>real estate</td>\n",
       "      <td>49</td>\n",
       "      <td>none</td>\n",
       "      <td>own</td>\n",
       "      <td>1</td>\n",
       "      <td>unskilled - resident</td>\n",
       "      <td>2</td>\n",
       "      <td>none</td>\n",
       "      <td>yes</td>\n",
       "    </tr>\n",
       "    <tr>\n",
       "      <th>3</th>\n",
       "      <td>0</td>\n",
       "      <td>&lt; 0 DM</td>\n",
       "      <td>42</td>\n",
       "      <td>existing credits paid back duly till now</td>\n",
       "      <td>radio/television</td>\n",
       "      <td>7882</td>\n",
       "      <td>... &lt; 100 DM</td>\n",
       "      <td>4 &lt;= ... &lt; 7 years</td>\n",
       "      <td>2</td>\n",
       "      <td>male : single</td>\n",
       "      <td>...</td>\n",
       "      <td>4</td>\n",
       "      <td>if not A121 : building society savings agreeme...</td>\n",
       "      <td>45</td>\n",
       "      <td>none</td>\n",
       "      <td>for free</td>\n",
       "      <td>1</td>\n",
       "      <td>skilled employee / official</td>\n",
       "      <td>2</td>\n",
       "      <td>none</td>\n",
       "      <td>yes</td>\n",
       "    </tr>\n",
       "    <tr>\n",
       "      <th>4</th>\n",
       "      <td>1</td>\n",
       "      <td>&lt; 0 DM</td>\n",
       "      <td>24</td>\n",
       "      <td>delay in paying off in the past</td>\n",
       "      <td>car (new)</td>\n",
       "      <td>4870</td>\n",
       "      <td>... &lt; 100 DM</td>\n",
       "      <td>1 &lt;= ... &lt; 4 years</td>\n",
       "      <td>3</td>\n",
       "      <td>male : single</td>\n",
       "      <td>...</td>\n",
       "      <td>4</td>\n",
       "      <td>unknown / no property</td>\n",
       "      <td>53</td>\n",
       "      <td>none</td>\n",
       "      <td>for free</td>\n",
       "      <td>2</td>\n",
       "      <td>skilled employee / official</td>\n",
       "      <td>2</td>\n",
       "      <td>none</td>\n",
       "      <td>yes</td>\n",
       "    </tr>\n",
       "  </tbody>\n",
       "</table>\n",
       "<p>5 rows × 21 columns</p>\n",
       "</div>"
      ],
      "text/plain": [
       "   default       conta_corrente  prazo_emprestimo_meses  \\\n",
       "0        0               < 0 DM                       6   \n",
       "1        1    0 <= ... < 200 DM                      48   \n",
       "2        0  no checking account                      12   \n",
       "3        0               < 0 DM                      42   \n",
       "4        1               < 0 DM                      24   \n",
       "\n",
       "                                   historico_credito  \\\n",
       "0  critical account/ other credits existing (not ...   \n",
       "1           existing credits paid back duly till now   \n",
       "2  critical account/ other credits existing (not ...   \n",
       "3           existing credits paid back duly till now   \n",
       "4                    delay in paying off in the past   \n",
       "\n",
       "           proposito_emprestimo  valor_emprestimo  \\\n",
       "0           domestic appliances              1169   \n",
       "1           domestic appliances              5951   \n",
       "2  (vacation - does not exist?)              2096   \n",
       "3              radio/television              7882   \n",
       "4                     car (new)              4870   \n",
       "\n",
       "                    reserva_cc tempo_emprego_atual  taxa_comp_salario  \\\n",
       "0  unknown/ no savings account       .. >= 7 years                  4   \n",
       "1                 ... < 100 DM  1 <= ... < 4 years                  2   \n",
       "2                 ... < 100 DM  4 <= ... < 7 years                  2   \n",
       "3                 ... < 100 DM  4 <= ... < 7 years                  2   \n",
       "4                 ... < 100 DM  1 <= ... < 4 years                  3   \n",
       "\n",
       "                        sexo_est_civil  ... anos_residencia_atual  \\\n",
       "0                        male : single  ...                     4   \n",
       "1  female : divorced/separated/married  ...                     2   \n",
       "2                        male : single  ...                     3   \n",
       "3                        male : single  ...                     4   \n",
       "4                        male : single  ...                     4   \n",
       "\n",
       "                                         propriedade idade  \\\n",
       "0                                        real estate    67   \n",
       "1                                        real estate    22   \n",
       "2                                        real estate    49   \n",
       "3  if not A121 : building society savings agreeme...    45   \n",
       "4                              unknown / no property    53   \n",
       "\n",
       "   outros_planos_financiamento tipo_residencia n_creditos_banco  \\\n",
       "0                         none             own                2   \n",
       "1                         none             own                1   \n",
       "2                         none             own                1   \n",
       "3                         none        for free                1   \n",
       "4                         none        for free                2   \n",
       "\n",
       "                status_emprego n_dependentes  \\\n",
       "0  skilled employee / official             1   \n",
       "1  skilled employee / official             1   \n",
       "2         unskilled - resident             2   \n",
       "3  skilled employee / official             2   \n",
       "4  skilled employee / official             2   \n",
       "\n",
       "                                    telefone trabalhador_estrangeiro  \n",
       "0  yes, registered under the customers name                      yes  \n",
       "1                                       none                     yes  \n",
       "2                                       none                     yes  \n",
       "3                                       none                     yes  \n",
       "4                                       none                     yes  \n",
       "\n",
       "[5 rows x 21 columns]"
      ]
     },
     "execution_count": 51,
     "metadata": {},
     "output_type": "execute_result"
    }
   ],
   "source": [
    "df = pd.read_csv(\"https://raw.githubusercontent.com/alura-cursos/credit_scoring/main/base_dados_traduzida.csv\")\n",
    "df.head()"
   ]
  },
  {
   "cell_type": "code",
   "execution_count": 52,
   "id": "903abc74-6dee-41bc-9184-abafd0826ea3",
   "metadata": {},
   "outputs": [
    {
     "name": "stdout",
     "output_type": "stream",
     "text": [
      "<class 'pandas.core.frame.DataFrame'>\n",
      "RangeIndex: 1000 entries, 0 to 999\n",
      "Data columns (total 21 columns):\n",
      " #   Column                       Non-Null Count  Dtype \n",
      "---  ------                       --------------  ----- \n",
      " 0   default                      1000 non-null   int64 \n",
      " 1   conta_corrente               1000 non-null   object\n",
      " 2   prazo_emprestimo_meses       1000 non-null   int64 \n",
      " 3   historico_credito            1000 non-null   object\n",
      " 4   proposito_emprestimo         1000 non-null   object\n",
      " 5   valor_emprestimo             1000 non-null   int64 \n",
      " 6   reserva_cc                   1000 non-null   object\n",
      " 7   tempo_emprego_atual          1000 non-null   object\n",
      " 8   taxa_comp_salario            1000 non-null   int64 \n",
      " 9   sexo_est_civil               1000 non-null   object\n",
      " 10  outros_fiadores              1000 non-null   object\n",
      " 11  anos_residencia_atual        1000 non-null   int64 \n",
      " 12  propriedade                  1000 non-null   object\n",
      " 13  idade                        1000 non-null   int64 \n",
      " 14  outros_planos_financiamento  1000 non-null   object\n",
      " 15  tipo_residencia              1000 non-null   object\n",
      " 16  n_creditos_banco             1000 non-null   int64 \n",
      " 17  status_emprego               1000 non-null   object\n",
      " 18  n_dependentes                1000 non-null   int64 \n",
      " 19  telefone                     1000 non-null   object\n",
      " 20  trabalhador_estrangeiro      1000 non-null   object\n",
      "dtypes: int64(8), object(13)\n",
      "memory usage: 164.2+ KB\n"
     ]
    }
   ],
   "source": [
    "df.info()"
   ]
  },
  {
   "cell_type": "code",
   "execution_count": 53,
   "id": "f99e70e2-c0aa-4389-bcee-6cc0a8689fc6",
   "metadata": {},
   "outputs": [
    {
     "data": {
      "text/plain": [
       "default                        0\n",
       "conta_corrente                 0\n",
       "prazo_emprestimo_meses         0\n",
       "historico_credito              0\n",
       "proposito_emprestimo           0\n",
       "valor_emprestimo               0\n",
       "reserva_cc                     0\n",
       "tempo_emprego_atual            0\n",
       "taxa_comp_salario              0\n",
       "sexo_est_civil                 0\n",
       "outros_fiadores                0\n",
       "anos_residencia_atual          0\n",
       "propriedade                    0\n",
       "idade                          0\n",
       "outros_planos_financiamento    0\n",
       "tipo_residencia                0\n",
       "n_creditos_banco               0\n",
       "status_emprego                 0\n",
       "n_dependentes                  0\n",
       "telefone                       0\n",
       "trabalhador_estrangeiro        0\n",
       "dtype: int64"
      ]
     },
     "execution_count": 53,
     "metadata": {},
     "output_type": "execute_result"
    }
   ],
   "source": [
    "df.isnull().sum()"
   ]
  },
  {
   "cell_type": "code",
   "execution_count": 54,
   "id": "e07d08ea-4f83-4972-884f-61482364fc17",
   "metadata": {},
   "outputs": [
    {
     "data": {
      "text/plain": [
       "array(['< 0 DM', '0 <= ... < 200 DM', 'no checking account',\n",
       "       '>= 200 DM / salary assignments for at least 1 year'], dtype=object)"
      ]
     },
     "execution_count": 54,
     "metadata": {},
     "output_type": "execute_result"
    }
   ],
   "source": [
    "#precisamos transformar as colunas categoricas em dummies ou usando o map\n",
    "df[\"conta_corrente\"].unique()"
   ]
  },
  {
   "cell_type": "code",
   "execution_count": 55,
   "id": "a76cfa41-fbdb-43e4-8e92-9ce2f27eb6a2",
   "metadata": {},
   "outputs": [
    {
     "data": {
      "text/html": [
       "<div>\n",
       "<style scoped>\n",
       "    .dataframe tbody tr th:only-of-type {\n",
       "        vertical-align: middle;\n",
       "    }\n",
       "\n",
       "    .dataframe tbody tr th {\n",
       "        vertical-align: top;\n",
       "    }\n",
       "\n",
       "    .dataframe thead th {\n",
       "        text-align: right;\n",
       "    }\n",
       "</style>\n",
       "<table border=\"1\" class=\"dataframe\">\n",
       "  <thead>\n",
       "    <tr style=\"text-align: right;\">\n",
       "      <th></th>\n",
       "      <th>default</th>\n",
       "      <th>conta_corrente</th>\n",
       "      <th>prazo_emprestimo_meses</th>\n",
       "      <th>historico_credito</th>\n",
       "      <th>proposito_emprestimo</th>\n",
       "      <th>valor_emprestimo</th>\n",
       "      <th>reserva_cc</th>\n",
       "      <th>tempo_emprego_atual</th>\n",
       "      <th>taxa_comp_salario</th>\n",
       "      <th>sexo_est_civil</th>\n",
       "      <th>...</th>\n",
       "      <th>anos_residencia_atual</th>\n",
       "      <th>propriedade</th>\n",
       "      <th>idade</th>\n",
       "      <th>outros_planos_financiamento</th>\n",
       "      <th>tipo_residencia</th>\n",
       "      <th>n_creditos_banco</th>\n",
       "      <th>status_emprego</th>\n",
       "      <th>n_dependentes</th>\n",
       "      <th>telefone</th>\n",
       "      <th>trabalhador_estrangeiro</th>\n",
       "    </tr>\n",
       "  </thead>\n",
       "  <tbody>\n",
       "    <tr>\n",
       "      <th>0</th>\n",
       "      <td>0</td>\n",
       "      <td>0</td>\n",
       "      <td>6</td>\n",
       "      <td>critical account/ other credits existing (not ...</td>\n",
       "      <td>domestic appliances</td>\n",
       "      <td>1169</td>\n",
       "      <td>unknown/ no savings account</td>\n",
       "      <td>.. &gt;= 7 years</td>\n",
       "      <td>4</td>\n",
       "      <td>male : single</td>\n",
       "      <td>...</td>\n",
       "      <td>4</td>\n",
       "      <td>real estate</td>\n",
       "      <td>67</td>\n",
       "      <td>none</td>\n",
       "      <td>own</td>\n",
       "      <td>2</td>\n",
       "      <td>skilled employee / official</td>\n",
       "      <td>1</td>\n",
       "      <td>yes, registered under the customers name</td>\n",
       "      <td>yes</td>\n",
       "    </tr>\n",
       "    <tr>\n",
       "      <th>1</th>\n",
       "      <td>1</td>\n",
       "      <td>1</td>\n",
       "      <td>48</td>\n",
       "      <td>existing credits paid back duly till now</td>\n",
       "      <td>domestic appliances</td>\n",
       "      <td>5951</td>\n",
       "      <td>... &lt; 100 DM</td>\n",
       "      <td>1 &lt;= ... &lt; 4 years</td>\n",
       "      <td>2</td>\n",
       "      <td>female : divorced/separated/married</td>\n",
       "      <td>...</td>\n",
       "      <td>2</td>\n",
       "      <td>real estate</td>\n",
       "      <td>22</td>\n",
       "      <td>none</td>\n",
       "      <td>own</td>\n",
       "      <td>1</td>\n",
       "      <td>skilled employee / official</td>\n",
       "      <td>1</td>\n",
       "      <td>none</td>\n",
       "      <td>yes</td>\n",
       "    </tr>\n",
       "    <tr>\n",
       "      <th>2</th>\n",
       "      <td>0</td>\n",
       "      <td>2</td>\n",
       "      <td>12</td>\n",
       "      <td>critical account/ other credits existing (not ...</td>\n",
       "      <td>(vacation - does not exist?)</td>\n",
       "      <td>2096</td>\n",
       "      <td>... &lt; 100 DM</td>\n",
       "      <td>4 &lt;= ... &lt; 7 years</td>\n",
       "      <td>2</td>\n",
       "      <td>male : single</td>\n",
       "      <td>...</td>\n",
       "      <td>3</td>\n",
       "      <td>real estate</td>\n",
       "      <td>49</td>\n",
       "      <td>none</td>\n",
       "      <td>own</td>\n",
       "      <td>1</td>\n",
       "      <td>unskilled - resident</td>\n",
       "      <td>2</td>\n",
       "      <td>none</td>\n",
       "      <td>yes</td>\n",
       "    </tr>\n",
       "    <tr>\n",
       "      <th>3</th>\n",
       "      <td>0</td>\n",
       "      <td>0</td>\n",
       "      <td>42</td>\n",
       "      <td>existing credits paid back duly till now</td>\n",
       "      <td>radio/television</td>\n",
       "      <td>7882</td>\n",
       "      <td>... &lt; 100 DM</td>\n",
       "      <td>4 &lt;= ... &lt; 7 years</td>\n",
       "      <td>2</td>\n",
       "      <td>male : single</td>\n",
       "      <td>...</td>\n",
       "      <td>4</td>\n",
       "      <td>if not A121 : building society savings agreeme...</td>\n",
       "      <td>45</td>\n",
       "      <td>none</td>\n",
       "      <td>for free</td>\n",
       "      <td>1</td>\n",
       "      <td>skilled employee / official</td>\n",
       "      <td>2</td>\n",
       "      <td>none</td>\n",
       "      <td>yes</td>\n",
       "    </tr>\n",
       "    <tr>\n",
       "      <th>4</th>\n",
       "      <td>1</td>\n",
       "      <td>0</td>\n",
       "      <td>24</td>\n",
       "      <td>delay in paying off in the past</td>\n",
       "      <td>car (new)</td>\n",
       "      <td>4870</td>\n",
       "      <td>... &lt; 100 DM</td>\n",
       "      <td>1 &lt;= ... &lt; 4 years</td>\n",
       "      <td>3</td>\n",
       "      <td>male : single</td>\n",
       "      <td>...</td>\n",
       "      <td>4</td>\n",
       "      <td>unknown / no property</td>\n",
       "      <td>53</td>\n",
       "      <td>none</td>\n",
       "      <td>for free</td>\n",
       "      <td>2</td>\n",
       "      <td>skilled employee / official</td>\n",
       "      <td>2</td>\n",
       "      <td>none</td>\n",
       "      <td>yes</td>\n",
       "    </tr>\n",
       "  </tbody>\n",
       "</table>\n",
       "<p>5 rows × 21 columns</p>\n",
       "</div>"
      ],
      "text/plain": [
       "   default  conta_corrente  prazo_emprestimo_meses  \\\n",
       "0        0               0                       6   \n",
       "1        1               1                      48   \n",
       "2        0               2                      12   \n",
       "3        0               0                      42   \n",
       "4        1               0                      24   \n",
       "\n",
       "                                   historico_credito  \\\n",
       "0  critical account/ other credits existing (not ...   \n",
       "1           existing credits paid back duly till now   \n",
       "2  critical account/ other credits existing (not ...   \n",
       "3           existing credits paid back duly till now   \n",
       "4                    delay in paying off in the past   \n",
       "\n",
       "           proposito_emprestimo  valor_emprestimo  \\\n",
       "0           domestic appliances              1169   \n",
       "1           domestic appliances              5951   \n",
       "2  (vacation - does not exist?)              2096   \n",
       "3              radio/television              7882   \n",
       "4                     car (new)              4870   \n",
       "\n",
       "                    reserva_cc tempo_emprego_atual  taxa_comp_salario  \\\n",
       "0  unknown/ no savings account       .. >= 7 years                  4   \n",
       "1                 ... < 100 DM  1 <= ... < 4 years                  2   \n",
       "2                 ... < 100 DM  4 <= ... < 7 years                  2   \n",
       "3                 ... < 100 DM  4 <= ... < 7 years                  2   \n",
       "4                 ... < 100 DM  1 <= ... < 4 years                  3   \n",
       "\n",
       "                        sexo_est_civil  ... anos_residencia_atual  \\\n",
       "0                        male : single  ...                     4   \n",
       "1  female : divorced/separated/married  ...                     2   \n",
       "2                        male : single  ...                     3   \n",
       "3                        male : single  ...                     4   \n",
       "4                        male : single  ...                     4   \n",
       "\n",
       "                                         propriedade idade  \\\n",
       "0                                        real estate    67   \n",
       "1                                        real estate    22   \n",
       "2                                        real estate    49   \n",
       "3  if not A121 : building society savings agreeme...    45   \n",
       "4                              unknown / no property    53   \n",
       "\n",
       "   outros_planos_financiamento tipo_residencia n_creditos_banco  \\\n",
       "0                         none             own                2   \n",
       "1                         none             own                1   \n",
       "2                         none             own                1   \n",
       "3                         none        for free                1   \n",
       "4                         none        for free                2   \n",
       "\n",
       "                status_emprego n_dependentes  \\\n",
       "0  skilled employee / official             1   \n",
       "1  skilled employee / official             1   \n",
       "2         unskilled - resident             2   \n",
       "3  skilled employee / official             2   \n",
       "4  skilled employee / official             2   \n",
       "\n",
       "                                    telefone trabalhador_estrangeiro  \n",
       "0  yes, registered under the customers name                      yes  \n",
       "1                                       none                     yes  \n",
       "2                                       none                     yes  \n",
       "3                                       none                     yes  \n",
       "4                                       none                     yes  \n",
       "\n",
       "[5 rows x 21 columns]"
      ]
     },
     "execution_count": 55,
     "metadata": {},
     "output_type": "execute_result"
    }
   ],
   "source": [
    "dic = {'< 0 DM':0, '0 <= ... < 200 DM':1,'no checking account':2,'>= 200 DM / salary assignments for at least 1 year':3}\n",
    "df[\"conta_corrente\"] = df[\"conta_corrente\"].map(dic)\n",
    "df.head()"
   ]
  },
  {
   "cell_type": "code",
   "execution_count": 56,
   "id": "a54aaa1d-15b1-418a-809f-9c1e8f555cc6",
   "metadata": {},
   "outputs": [
    {
     "data": {
      "text/plain": [
       "array(['critical account/ other credits existing (not at this bank)',\n",
       "       'existing credits paid back duly till now',\n",
       "       'delay in paying off in the past',\n",
       "       'no credits taken/ all credits paid back duly',\n",
       "       'all credits at this bank paid back duly'], dtype=object)"
      ]
     },
     "execution_count": 56,
     "metadata": {},
     "output_type": "execute_result"
    }
   ],
   "source": [
    "df[\"historico_credito\"].unique()"
   ]
  },
  {
   "cell_type": "code",
   "execution_count": 57,
   "id": "bae70438-0ac4-49da-a440-79edfdd5df7d",
   "metadata": {},
   "outputs": [
    {
     "data": {
      "text/plain": [
       "array([0, 1, 2, 3, 4])"
      ]
     },
     "execution_count": 57,
     "metadata": {},
     "output_type": "execute_result"
    }
   ],
   "source": [
    "dic = {'critical account/ other credits existing (not at this bank)':0,\n",
    "       'existing credits paid back duly till now':1,\n",
    "       'delay in paying off in the past':2,\n",
    "       'no credits taken/ all credits paid back duly':3,\n",
    "       'all credits at this bank paid back duly':4}\n",
    "df[\"historico_credito\"] = df[\"historico_credito\"].map(dic)\n",
    "df[\"historico_credito\"].unique()"
   ]
  },
  {
   "cell_type": "code",
   "execution_count": 58,
   "id": "7370576f-5017-4566-b592-8dc04c55a58e",
   "metadata": {},
   "outputs": [
    {
     "data": {
      "text/plain": [
       "array(['domestic appliances', '(vacation - does not exist?)',\n",
       "       'radio/television', 'car (new)', 'car (used)', 'business',\n",
       "       'repairs', 'education', 'furniture/equipment', 'retraining'],\n",
       "      dtype=object)"
      ]
     },
     "execution_count": 58,
     "metadata": {},
     "output_type": "execute_result"
    }
   ],
   "source": [
    "df[\"proposito_emprestimo\"].unique()"
   ]
  },
  {
   "cell_type": "code",
   "execution_count": 59,
   "id": "bd9dec3b-5e6a-46ff-b4f7-6f115715c85c",
   "metadata": {},
   "outputs": [],
   "source": [
    "dic = {'domestic appliances':0,'(vacation - does not exist?)':1,\n",
    "       'radio/television':2,'car (new)':3,'car (used)':4,'business':5,\n",
    "       'repairs':6,'education':7,'furniture/equipment':8,'retraining':9}\n",
    "df[\"proposito_emprestimo\"] = df[\"proposito_emprestimo\"].map(dic)"
   ]
  },
  {
   "cell_type": "code",
   "execution_count": 60,
   "id": "ff7e9383-ce25-4b56-a2fe-0a9d0e42ed57",
   "metadata": {},
   "outputs": [
    {
     "data": {
      "text/plain": [
       "array(['unknown/ no savings account', '... < 100 DM',\n",
       "       '500 <= ... < 1000 DM ', '.. >= 1000 DM ', '100 <= ... < 500 DM'],\n",
       "      dtype=object)"
      ]
     },
     "execution_count": 60,
     "metadata": {},
     "output_type": "execute_result"
    }
   ],
   "source": [
    "df[\"reserva_cc\"].unique()"
   ]
  },
  {
   "cell_type": "code",
   "execution_count": 61,
   "id": "87c6d63b-6830-4c8b-90b2-0db0b757a8d0",
   "metadata": {},
   "outputs": [
    {
     "data": {
      "text/html": [
       "<div>\n",
       "<style scoped>\n",
       "    .dataframe tbody tr th:only-of-type {\n",
       "        vertical-align: middle;\n",
       "    }\n",
       "\n",
       "    .dataframe tbody tr th {\n",
       "        vertical-align: top;\n",
       "    }\n",
       "\n",
       "    .dataframe thead th {\n",
       "        text-align: right;\n",
       "    }\n",
       "</style>\n",
       "<table border=\"1\" class=\"dataframe\">\n",
       "  <thead>\n",
       "    <tr style=\"text-align: right;\">\n",
       "      <th></th>\n",
       "      <th>default</th>\n",
       "      <th>conta_corrente</th>\n",
       "      <th>prazo_emprestimo_meses</th>\n",
       "      <th>historico_credito</th>\n",
       "      <th>proposito_emprestimo</th>\n",
       "      <th>valor_emprestimo</th>\n",
       "      <th>reserva_cc</th>\n",
       "      <th>tempo_emprego_atual</th>\n",
       "      <th>taxa_comp_salario</th>\n",
       "      <th>sexo_est_civil</th>\n",
       "      <th>...</th>\n",
       "      <th>anos_residencia_atual</th>\n",
       "      <th>propriedade</th>\n",
       "      <th>idade</th>\n",
       "      <th>outros_planos_financiamento</th>\n",
       "      <th>tipo_residencia</th>\n",
       "      <th>n_creditos_banco</th>\n",
       "      <th>status_emprego</th>\n",
       "      <th>n_dependentes</th>\n",
       "      <th>telefone</th>\n",
       "      <th>trabalhador_estrangeiro</th>\n",
       "    </tr>\n",
       "  </thead>\n",
       "  <tbody>\n",
       "    <tr>\n",
       "      <th>0</th>\n",
       "      <td>0</td>\n",
       "      <td>0</td>\n",
       "      <td>6</td>\n",
       "      <td>0</td>\n",
       "      <td>0</td>\n",
       "      <td>1169</td>\n",
       "      <td>0</td>\n",
       "      <td>.. &gt;= 7 years</td>\n",
       "      <td>4</td>\n",
       "      <td>male : single</td>\n",
       "      <td>...</td>\n",
       "      <td>4</td>\n",
       "      <td>real estate</td>\n",
       "      <td>67</td>\n",
       "      <td>none</td>\n",
       "      <td>own</td>\n",
       "      <td>2</td>\n",
       "      <td>skilled employee / official</td>\n",
       "      <td>1</td>\n",
       "      <td>yes, registered under the customers name</td>\n",
       "      <td>yes</td>\n",
       "    </tr>\n",
       "    <tr>\n",
       "      <th>1</th>\n",
       "      <td>1</td>\n",
       "      <td>1</td>\n",
       "      <td>48</td>\n",
       "      <td>1</td>\n",
       "      <td>0</td>\n",
       "      <td>5951</td>\n",
       "      <td>1</td>\n",
       "      <td>1 &lt;= ... &lt; 4 years</td>\n",
       "      <td>2</td>\n",
       "      <td>female : divorced/separated/married</td>\n",
       "      <td>...</td>\n",
       "      <td>2</td>\n",
       "      <td>real estate</td>\n",
       "      <td>22</td>\n",
       "      <td>none</td>\n",
       "      <td>own</td>\n",
       "      <td>1</td>\n",
       "      <td>skilled employee / official</td>\n",
       "      <td>1</td>\n",
       "      <td>none</td>\n",
       "      <td>yes</td>\n",
       "    </tr>\n",
       "    <tr>\n",
       "      <th>2</th>\n",
       "      <td>0</td>\n",
       "      <td>2</td>\n",
       "      <td>12</td>\n",
       "      <td>0</td>\n",
       "      <td>1</td>\n",
       "      <td>2096</td>\n",
       "      <td>1</td>\n",
       "      <td>4 &lt;= ... &lt; 7 years</td>\n",
       "      <td>2</td>\n",
       "      <td>male : single</td>\n",
       "      <td>...</td>\n",
       "      <td>3</td>\n",
       "      <td>real estate</td>\n",
       "      <td>49</td>\n",
       "      <td>none</td>\n",
       "      <td>own</td>\n",
       "      <td>1</td>\n",
       "      <td>unskilled - resident</td>\n",
       "      <td>2</td>\n",
       "      <td>none</td>\n",
       "      <td>yes</td>\n",
       "    </tr>\n",
       "    <tr>\n",
       "      <th>3</th>\n",
       "      <td>0</td>\n",
       "      <td>0</td>\n",
       "      <td>42</td>\n",
       "      <td>1</td>\n",
       "      <td>2</td>\n",
       "      <td>7882</td>\n",
       "      <td>1</td>\n",
       "      <td>4 &lt;= ... &lt; 7 years</td>\n",
       "      <td>2</td>\n",
       "      <td>male : single</td>\n",
       "      <td>...</td>\n",
       "      <td>4</td>\n",
       "      <td>if not A121 : building society savings agreeme...</td>\n",
       "      <td>45</td>\n",
       "      <td>none</td>\n",
       "      <td>for free</td>\n",
       "      <td>1</td>\n",
       "      <td>skilled employee / official</td>\n",
       "      <td>2</td>\n",
       "      <td>none</td>\n",
       "      <td>yes</td>\n",
       "    </tr>\n",
       "    <tr>\n",
       "      <th>4</th>\n",
       "      <td>1</td>\n",
       "      <td>0</td>\n",
       "      <td>24</td>\n",
       "      <td>2</td>\n",
       "      <td>3</td>\n",
       "      <td>4870</td>\n",
       "      <td>1</td>\n",
       "      <td>1 &lt;= ... &lt; 4 years</td>\n",
       "      <td>3</td>\n",
       "      <td>male : single</td>\n",
       "      <td>...</td>\n",
       "      <td>4</td>\n",
       "      <td>unknown / no property</td>\n",
       "      <td>53</td>\n",
       "      <td>none</td>\n",
       "      <td>for free</td>\n",
       "      <td>2</td>\n",
       "      <td>skilled employee / official</td>\n",
       "      <td>2</td>\n",
       "      <td>none</td>\n",
       "      <td>yes</td>\n",
       "    </tr>\n",
       "  </tbody>\n",
       "</table>\n",
       "<p>5 rows × 21 columns</p>\n",
       "</div>"
      ],
      "text/plain": [
       "   default  conta_corrente  prazo_emprestimo_meses  historico_credito  \\\n",
       "0        0               0                       6                  0   \n",
       "1        1               1                      48                  1   \n",
       "2        0               2                      12                  0   \n",
       "3        0               0                      42                  1   \n",
       "4        1               0                      24                  2   \n",
       "\n",
       "   proposito_emprestimo  valor_emprestimo  reserva_cc tempo_emprego_atual  \\\n",
       "0                     0              1169           0       .. >= 7 years   \n",
       "1                     0              5951           1  1 <= ... < 4 years   \n",
       "2                     1              2096           1  4 <= ... < 7 years   \n",
       "3                     2              7882           1  4 <= ... < 7 years   \n",
       "4                     3              4870           1  1 <= ... < 4 years   \n",
       "\n",
       "   taxa_comp_salario                       sexo_est_civil  ...  \\\n",
       "0                  4                        male : single  ...   \n",
       "1                  2  female : divorced/separated/married  ...   \n",
       "2                  2                        male : single  ...   \n",
       "3                  2                        male : single  ...   \n",
       "4                  3                        male : single  ...   \n",
       "\n",
       "  anos_residencia_atual                                        propriedade  \\\n",
       "0                     4                                        real estate   \n",
       "1                     2                                        real estate   \n",
       "2                     3                                        real estate   \n",
       "3                     4  if not A121 : building society savings agreeme...   \n",
       "4                     4                              unknown / no property   \n",
       "\n",
       "  idade  outros_planos_financiamento tipo_residencia n_creditos_banco  \\\n",
       "0    67                         none             own                2   \n",
       "1    22                         none             own                1   \n",
       "2    49                         none             own                1   \n",
       "3    45                         none        for free                1   \n",
       "4    53                         none        for free                2   \n",
       "\n",
       "                status_emprego n_dependentes  \\\n",
       "0  skilled employee / official             1   \n",
       "1  skilled employee / official             1   \n",
       "2         unskilled - resident             2   \n",
       "3  skilled employee / official             2   \n",
       "4  skilled employee / official             2   \n",
       "\n",
       "                                    telefone trabalhador_estrangeiro  \n",
       "0  yes, registered under the customers name                      yes  \n",
       "1                                       none                     yes  \n",
       "2                                       none                     yes  \n",
       "3                                       none                     yes  \n",
       "4                                       none                     yes  \n",
       "\n",
       "[5 rows x 21 columns]"
      ]
     },
     "execution_count": 61,
     "metadata": {},
     "output_type": "execute_result"
    }
   ],
   "source": [
    "dic = {'unknown/ no savings account':0,'... < 100 DM':1,'500 <= ... < 1000 DM ':2,\n",
    "     '.. >= 1000 DM ':3,'100 <= ... < 500 DM':4}\n",
    "df[\"reserva_cc\"] = df[\"reserva_cc\"].map(dic)\n",
    "df.head()"
   ]
  },
  {
   "cell_type": "code",
   "execution_count": 62,
   "id": "fa6e8b55-b89c-4088-ad95-3ea4400825ed",
   "metadata": {},
   "outputs": [
    {
     "data": {
      "text/plain": [
       "array(['.. >= 7 years', '1 <= ... < 4 years', '4 <= ... < 7 years',\n",
       "       'unemployed', '... < 1 year '], dtype=object)"
      ]
     },
     "execution_count": 62,
     "metadata": {},
     "output_type": "execute_result"
    }
   ],
   "source": [
    "df[\"tempo_emprego_atual\"].unique()"
   ]
  },
  {
   "cell_type": "code",
   "execution_count": 63,
   "id": "74cb804b-d34c-4107-a142-a3754b3d0902",
   "metadata": {},
   "outputs": [
    {
     "data": {
      "text/html": [
       "<div>\n",
       "<style scoped>\n",
       "    .dataframe tbody tr th:only-of-type {\n",
       "        vertical-align: middle;\n",
       "    }\n",
       "\n",
       "    .dataframe tbody tr th {\n",
       "        vertical-align: top;\n",
       "    }\n",
       "\n",
       "    .dataframe thead th {\n",
       "        text-align: right;\n",
       "    }\n",
       "</style>\n",
       "<table border=\"1\" class=\"dataframe\">\n",
       "  <thead>\n",
       "    <tr style=\"text-align: right;\">\n",
       "      <th></th>\n",
       "      <th>default</th>\n",
       "      <th>conta_corrente</th>\n",
       "      <th>prazo_emprestimo_meses</th>\n",
       "      <th>historico_credito</th>\n",
       "      <th>proposito_emprestimo</th>\n",
       "      <th>valor_emprestimo</th>\n",
       "      <th>reserva_cc</th>\n",
       "      <th>tempo_emprego_atual</th>\n",
       "      <th>taxa_comp_salario</th>\n",
       "      <th>sexo_est_civil</th>\n",
       "      <th>...</th>\n",
       "      <th>anos_residencia_atual</th>\n",
       "      <th>propriedade</th>\n",
       "      <th>idade</th>\n",
       "      <th>outros_planos_financiamento</th>\n",
       "      <th>tipo_residencia</th>\n",
       "      <th>n_creditos_banco</th>\n",
       "      <th>status_emprego</th>\n",
       "      <th>n_dependentes</th>\n",
       "      <th>telefone</th>\n",
       "      <th>trabalhador_estrangeiro</th>\n",
       "    </tr>\n",
       "  </thead>\n",
       "  <tbody>\n",
       "    <tr>\n",
       "      <th>0</th>\n",
       "      <td>0</td>\n",
       "      <td>0</td>\n",
       "      <td>6</td>\n",
       "      <td>0</td>\n",
       "      <td>0</td>\n",
       "      <td>1169</td>\n",
       "      <td>0</td>\n",
       "      <td>.. &gt;= 7 years</td>\n",
       "      <td>4</td>\n",
       "      <td>male : single</td>\n",
       "      <td>...</td>\n",
       "      <td>4</td>\n",
       "      <td>real estate</td>\n",
       "      <td>67</td>\n",
       "      <td>none</td>\n",
       "      <td>own</td>\n",
       "      <td>2</td>\n",
       "      <td>skilled employee / official</td>\n",
       "      <td>1</td>\n",
       "      <td>yes, registered under the customers name</td>\n",
       "      <td>yes</td>\n",
       "    </tr>\n",
       "    <tr>\n",
       "      <th>1</th>\n",
       "      <td>1</td>\n",
       "      <td>1</td>\n",
       "      <td>48</td>\n",
       "      <td>1</td>\n",
       "      <td>0</td>\n",
       "      <td>5951</td>\n",
       "      <td>1</td>\n",
       "      <td>1 &lt;= ... &lt; 4 years</td>\n",
       "      <td>2</td>\n",
       "      <td>female : divorced/separated/married</td>\n",
       "      <td>...</td>\n",
       "      <td>2</td>\n",
       "      <td>real estate</td>\n",
       "      <td>22</td>\n",
       "      <td>none</td>\n",
       "      <td>own</td>\n",
       "      <td>1</td>\n",
       "      <td>skilled employee / official</td>\n",
       "      <td>1</td>\n",
       "      <td>none</td>\n",
       "      <td>yes</td>\n",
       "    </tr>\n",
       "  </tbody>\n",
       "</table>\n",
       "<p>2 rows × 21 columns</p>\n",
       "</div>"
      ],
      "text/plain": [
       "   default  conta_corrente  prazo_emprestimo_meses  historico_credito  \\\n",
       "0        0               0                       6                  0   \n",
       "1        1               1                      48                  1   \n",
       "\n",
       "   proposito_emprestimo  valor_emprestimo  reserva_cc tempo_emprego_atual  \\\n",
       "0                     0              1169           0       .. >= 7 years   \n",
       "1                     0              5951           1  1 <= ... < 4 years   \n",
       "\n",
       "   taxa_comp_salario                       sexo_est_civil  ...  \\\n",
       "0                  4                        male : single  ...   \n",
       "1                  2  female : divorced/separated/married  ...   \n",
       "\n",
       "  anos_residencia_atual  propriedade idade  outros_planos_financiamento  \\\n",
       "0                     4  real estate    67                         none   \n",
       "1                     2  real estate    22                         none   \n",
       "\n",
       "  tipo_residencia n_creditos_banco               status_emprego n_dependentes  \\\n",
       "0             own                2  skilled employee / official             1   \n",
       "1             own                1  skilled employee / official             1   \n",
       "\n",
       "                                    telefone trabalhador_estrangeiro  \n",
       "0  yes, registered under the customers name                      yes  \n",
       "1                                       none                     yes  \n",
       "\n",
       "[2 rows x 21 columns]"
      ]
     },
     "execution_count": 63,
     "metadata": {},
     "output_type": "execute_result"
    }
   ],
   "source": [
    "df.head(2)"
   ]
  },
  {
   "cell_type": "code",
   "execution_count": 64,
   "id": "2fbd9fc7-b1d1-4aa4-87b9-0f5ed0b5485f",
   "metadata": {},
   "outputs": [
    {
     "data": {
      "text/html": [
       "<div>\n",
       "<style scoped>\n",
       "    .dataframe tbody tr th:only-of-type {\n",
       "        vertical-align: middle;\n",
       "    }\n",
       "\n",
       "    .dataframe tbody tr th {\n",
       "        vertical-align: top;\n",
       "    }\n",
       "\n",
       "    .dataframe thead th {\n",
       "        text-align: right;\n",
       "    }\n",
       "</style>\n",
       "<table border=\"1\" class=\"dataframe\">\n",
       "  <thead>\n",
       "    <tr style=\"text-align: right;\">\n",
       "      <th></th>\n",
       "      <th>default</th>\n",
       "      <th>conta_corrente</th>\n",
       "      <th>prazo_emprestimo_meses</th>\n",
       "      <th>historico_credito</th>\n",
       "      <th>proposito_emprestimo</th>\n",
       "      <th>valor_emprestimo</th>\n",
       "      <th>reserva_cc</th>\n",
       "      <th>tempo_emprego_atual</th>\n",
       "      <th>taxa_comp_salario</th>\n",
       "      <th>sexo_est_civil</th>\n",
       "      <th>...</th>\n",
       "      <th>anos_residencia_atual</th>\n",
       "      <th>propriedade</th>\n",
       "      <th>idade</th>\n",
       "      <th>outros_planos_financiamento</th>\n",
       "      <th>tipo_residencia</th>\n",
       "      <th>n_creditos_banco</th>\n",
       "      <th>status_emprego</th>\n",
       "      <th>n_dependentes</th>\n",
       "      <th>telefone</th>\n",
       "      <th>trabalhador_estrangeiro</th>\n",
       "    </tr>\n",
       "  </thead>\n",
       "  <tbody>\n",
       "    <tr>\n",
       "      <th>0</th>\n",
       "      <td>0</td>\n",
       "      <td>0</td>\n",
       "      <td>6</td>\n",
       "      <td>0</td>\n",
       "      <td>0</td>\n",
       "      <td>1169</td>\n",
       "      <td>0</td>\n",
       "      <td>0</td>\n",
       "      <td>4</td>\n",
       "      <td>male : single</td>\n",
       "      <td>...</td>\n",
       "      <td>4</td>\n",
       "      <td>real estate</td>\n",
       "      <td>67</td>\n",
       "      <td>none</td>\n",
       "      <td>own</td>\n",
       "      <td>2</td>\n",
       "      <td>skilled employee / official</td>\n",
       "      <td>1</td>\n",
       "      <td>yes, registered under the customers name</td>\n",
       "      <td>yes</td>\n",
       "    </tr>\n",
       "    <tr>\n",
       "      <th>1</th>\n",
       "      <td>1</td>\n",
       "      <td>1</td>\n",
       "      <td>48</td>\n",
       "      <td>1</td>\n",
       "      <td>0</td>\n",
       "      <td>5951</td>\n",
       "      <td>1</td>\n",
       "      <td>1</td>\n",
       "      <td>2</td>\n",
       "      <td>female : divorced/separated/married</td>\n",
       "      <td>...</td>\n",
       "      <td>2</td>\n",
       "      <td>real estate</td>\n",
       "      <td>22</td>\n",
       "      <td>none</td>\n",
       "      <td>own</td>\n",
       "      <td>1</td>\n",
       "      <td>skilled employee / official</td>\n",
       "      <td>1</td>\n",
       "      <td>none</td>\n",
       "      <td>yes</td>\n",
       "    </tr>\n",
       "  </tbody>\n",
       "</table>\n",
       "<p>2 rows × 21 columns</p>\n",
       "</div>"
      ],
      "text/plain": [
       "   default  conta_corrente  prazo_emprestimo_meses  historico_credito  \\\n",
       "0        0               0                       6                  0   \n",
       "1        1               1                      48                  1   \n",
       "\n",
       "   proposito_emprestimo  valor_emprestimo  reserva_cc  tempo_emprego_atual  \\\n",
       "0                     0              1169           0                    0   \n",
       "1                     0              5951           1                    1   \n",
       "\n",
       "   taxa_comp_salario                       sexo_est_civil  ...  \\\n",
       "0                  4                        male : single  ...   \n",
       "1                  2  female : divorced/separated/married  ...   \n",
       "\n",
       "  anos_residencia_atual  propriedade idade  outros_planos_financiamento  \\\n",
       "0                     4  real estate    67                         none   \n",
       "1                     2  real estate    22                         none   \n",
       "\n",
       "  tipo_residencia n_creditos_banco               status_emprego n_dependentes  \\\n",
       "0             own                2  skilled employee / official             1   \n",
       "1             own                1  skilled employee / official             1   \n",
       "\n",
       "                                    telefone trabalhador_estrangeiro  \n",
       "0  yes, registered under the customers name                      yes  \n",
       "1                                       none                     yes  \n",
       "\n",
       "[2 rows x 21 columns]"
      ]
     },
     "execution_count": 64,
     "metadata": {},
     "output_type": "execute_result"
    }
   ],
   "source": [
    "dic = {'.. >= 7 years':0,'1 <= ... < 4 years':1,'4 <= ... < 7 years':2,\n",
    "       'unemployed':3,'... < 1 year ':4}\n",
    "df[\"tempo_emprego_atual\"] = df[\"tempo_emprego_atual\"].map(dic)\n",
    "df.head(2)\n"
   ]
  },
  {
   "cell_type": "code",
   "execution_count": 65,
   "id": "f3753bb3-30cd-4919-9e59-d39ea56733fb",
   "metadata": {},
   "outputs": [
    {
     "data": {
      "text/plain": [
       "array(['male : single', 'female : divorced/separated/married',\n",
       "       'male : divorced/separated', 'male : married/widowed'],\n",
       "      dtype=object)"
      ]
     },
     "execution_count": 65,
     "metadata": {},
     "output_type": "execute_result"
    }
   ],
   "source": [
    "df[\"sexo_est_civil\"].unique()"
   ]
  },
  {
   "cell_type": "code",
   "execution_count": 66,
   "id": "0f97984e-c30d-4eab-b47d-337f92d95e30",
   "metadata": {},
   "outputs": [
    {
     "data": {
      "text/html": [
       "<div>\n",
       "<style scoped>\n",
       "    .dataframe tbody tr th:only-of-type {\n",
       "        vertical-align: middle;\n",
       "    }\n",
       "\n",
       "    .dataframe tbody tr th {\n",
       "        vertical-align: top;\n",
       "    }\n",
       "\n",
       "    .dataframe thead th {\n",
       "        text-align: right;\n",
       "    }\n",
       "</style>\n",
       "<table border=\"1\" class=\"dataframe\">\n",
       "  <thead>\n",
       "    <tr style=\"text-align: right;\">\n",
       "      <th></th>\n",
       "      <th>default</th>\n",
       "      <th>conta_corrente</th>\n",
       "      <th>prazo_emprestimo_meses</th>\n",
       "      <th>historico_credito</th>\n",
       "      <th>proposito_emprestimo</th>\n",
       "      <th>valor_emprestimo</th>\n",
       "      <th>reserva_cc</th>\n",
       "      <th>tempo_emprego_atual</th>\n",
       "      <th>taxa_comp_salario</th>\n",
       "      <th>sexo_est_civil</th>\n",
       "      <th>...</th>\n",
       "      <th>anos_residencia_atual</th>\n",
       "      <th>propriedade</th>\n",
       "      <th>idade</th>\n",
       "      <th>outros_planos_financiamento</th>\n",
       "      <th>tipo_residencia</th>\n",
       "      <th>n_creditos_banco</th>\n",
       "      <th>status_emprego</th>\n",
       "      <th>n_dependentes</th>\n",
       "      <th>telefone</th>\n",
       "      <th>trabalhador_estrangeiro</th>\n",
       "    </tr>\n",
       "  </thead>\n",
       "  <tbody>\n",
       "    <tr>\n",
       "      <th>0</th>\n",
       "      <td>0</td>\n",
       "      <td>0</td>\n",
       "      <td>6</td>\n",
       "      <td>0</td>\n",
       "      <td>0</td>\n",
       "      <td>1169</td>\n",
       "      <td>0</td>\n",
       "      <td>0</td>\n",
       "      <td>4</td>\n",
       "      <td>0</td>\n",
       "      <td>...</td>\n",
       "      <td>4</td>\n",
       "      <td>real estate</td>\n",
       "      <td>67</td>\n",
       "      <td>none</td>\n",
       "      <td>own</td>\n",
       "      <td>2</td>\n",
       "      <td>skilled employee / official</td>\n",
       "      <td>1</td>\n",
       "      <td>yes, registered under the customers name</td>\n",
       "      <td>yes</td>\n",
       "    </tr>\n",
       "    <tr>\n",
       "      <th>1</th>\n",
       "      <td>1</td>\n",
       "      <td>1</td>\n",
       "      <td>48</td>\n",
       "      <td>1</td>\n",
       "      <td>0</td>\n",
       "      <td>5951</td>\n",
       "      <td>1</td>\n",
       "      <td>1</td>\n",
       "      <td>2</td>\n",
       "      <td>1</td>\n",
       "      <td>...</td>\n",
       "      <td>2</td>\n",
       "      <td>real estate</td>\n",
       "      <td>22</td>\n",
       "      <td>none</td>\n",
       "      <td>own</td>\n",
       "      <td>1</td>\n",
       "      <td>skilled employee / official</td>\n",
       "      <td>1</td>\n",
       "      <td>none</td>\n",
       "      <td>yes</td>\n",
       "    </tr>\n",
       "    <tr>\n",
       "      <th>2</th>\n",
       "      <td>0</td>\n",
       "      <td>2</td>\n",
       "      <td>12</td>\n",
       "      <td>0</td>\n",
       "      <td>1</td>\n",
       "      <td>2096</td>\n",
       "      <td>1</td>\n",
       "      <td>2</td>\n",
       "      <td>2</td>\n",
       "      <td>0</td>\n",
       "      <td>...</td>\n",
       "      <td>3</td>\n",
       "      <td>real estate</td>\n",
       "      <td>49</td>\n",
       "      <td>none</td>\n",
       "      <td>own</td>\n",
       "      <td>1</td>\n",
       "      <td>unskilled - resident</td>\n",
       "      <td>2</td>\n",
       "      <td>none</td>\n",
       "      <td>yes</td>\n",
       "    </tr>\n",
       "    <tr>\n",
       "      <th>3</th>\n",
       "      <td>0</td>\n",
       "      <td>0</td>\n",
       "      <td>42</td>\n",
       "      <td>1</td>\n",
       "      <td>2</td>\n",
       "      <td>7882</td>\n",
       "      <td>1</td>\n",
       "      <td>2</td>\n",
       "      <td>2</td>\n",
       "      <td>0</td>\n",
       "      <td>...</td>\n",
       "      <td>4</td>\n",
       "      <td>if not A121 : building society savings agreeme...</td>\n",
       "      <td>45</td>\n",
       "      <td>none</td>\n",
       "      <td>for free</td>\n",
       "      <td>1</td>\n",
       "      <td>skilled employee / official</td>\n",
       "      <td>2</td>\n",
       "      <td>none</td>\n",
       "      <td>yes</td>\n",
       "    </tr>\n",
       "    <tr>\n",
       "      <th>4</th>\n",
       "      <td>1</td>\n",
       "      <td>0</td>\n",
       "      <td>24</td>\n",
       "      <td>2</td>\n",
       "      <td>3</td>\n",
       "      <td>4870</td>\n",
       "      <td>1</td>\n",
       "      <td>1</td>\n",
       "      <td>3</td>\n",
       "      <td>0</td>\n",
       "      <td>...</td>\n",
       "      <td>4</td>\n",
       "      <td>unknown / no property</td>\n",
       "      <td>53</td>\n",
       "      <td>none</td>\n",
       "      <td>for free</td>\n",
       "      <td>2</td>\n",
       "      <td>skilled employee / official</td>\n",
       "      <td>2</td>\n",
       "      <td>none</td>\n",
       "      <td>yes</td>\n",
       "    </tr>\n",
       "  </tbody>\n",
       "</table>\n",
       "<p>5 rows × 21 columns</p>\n",
       "</div>"
      ],
      "text/plain": [
       "   default  conta_corrente  prazo_emprestimo_meses  historico_credito  \\\n",
       "0        0               0                       6                  0   \n",
       "1        1               1                      48                  1   \n",
       "2        0               2                      12                  0   \n",
       "3        0               0                      42                  1   \n",
       "4        1               0                      24                  2   \n",
       "\n",
       "   proposito_emprestimo  valor_emprestimo  reserva_cc  tempo_emprego_atual  \\\n",
       "0                     0              1169           0                    0   \n",
       "1                     0              5951           1                    1   \n",
       "2                     1              2096           1                    2   \n",
       "3                     2              7882           1                    2   \n",
       "4                     3              4870           1                    1   \n",
       "\n",
       "   taxa_comp_salario  sexo_est_civil  ... anos_residencia_atual  \\\n",
       "0                  4               0  ...                     4   \n",
       "1                  2               1  ...                     2   \n",
       "2                  2               0  ...                     3   \n",
       "3                  2               0  ...                     4   \n",
       "4                  3               0  ...                     4   \n",
       "\n",
       "                                         propriedade idade  \\\n",
       "0                                        real estate    67   \n",
       "1                                        real estate    22   \n",
       "2                                        real estate    49   \n",
       "3  if not A121 : building society savings agreeme...    45   \n",
       "4                              unknown / no property    53   \n",
       "\n",
       "   outros_planos_financiamento tipo_residencia n_creditos_banco  \\\n",
       "0                         none             own                2   \n",
       "1                         none             own                1   \n",
       "2                         none             own                1   \n",
       "3                         none        for free                1   \n",
       "4                         none        for free                2   \n",
       "\n",
       "                status_emprego n_dependentes  \\\n",
       "0  skilled employee / official             1   \n",
       "1  skilled employee / official             1   \n",
       "2         unskilled - resident             2   \n",
       "3  skilled employee / official             2   \n",
       "4  skilled employee / official             2   \n",
       "\n",
       "                                    telefone trabalhador_estrangeiro  \n",
       "0  yes, registered under the customers name                      yes  \n",
       "1                                       none                     yes  \n",
       "2                                       none                     yes  \n",
       "3                                       none                     yes  \n",
       "4                                       none                     yes  \n",
       "\n",
       "[5 rows x 21 columns]"
      ]
     },
     "execution_count": 66,
     "metadata": {},
     "output_type": "execute_result"
    }
   ],
   "source": [
    "dic = {'male : single':0,'female : divorced/separated/married':1,'male : divorced/separated':2,\n",
    "    'male : married/widowed':3}\n",
    "df[\"sexo_est_civil\"] = df[\"sexo_est_civil\"].map(dic)\n",
    "df.head()"
   ]
  },
  {
   "cell_type": "code",
   "execution_count": 67,
   "id": "6db062d7-f23c-4fb6-8ec2-651ccdcb7843",
   "metadata": {},
   "outputs": [
    {
     "data": {
      "text/plain": [
       "array(['real estate',\n",
       "       'if not A121 : building society savings agreement/ life insurance',\n",
       "       'unknown / no property',\n",
       "       'if not A121/A122 : car or other, not in attribute 6'],\n",
       "      dtype=object)"
      ]
     },
     "execution_count": 67,
     "metadata": {},
     "output_type": "execute_result"
    }
   ],
   "source": [
    "df[\"propriedade\"].unique()"
   ]
  },
  {
   "cell_type": "code",
   "execution_count": 68,
   "id": "dd22ffab-ec44-4e08-baa1-a44f37c03091",
   "metadata": {},
   "outputs": [],
   "source": [
    "dic = {'real estate':0,'if not A121 : building society savings agreement/ life insurance':1,\n",
    "       'unknown / no property':2,'if not A121/A122 : car or other, not in attribute 6':3}\n",
    "df[\"propriedade\"] = df[\"propriedade\"].map(dic)"
   ]
  },
  {
   "cell_type": "code",
   "execution_count": 69,
   "id": "34c2a8bc-377f-4f46-b54a-44b7dec428b3",
   "metadata": {},
   "outputs": [
    {
     "data": {
      "text/plain": [
       "array(['none', 'bank', 'stores'], dtype=object)"
      ]
     },
     "execution_count": 69,
     "metadata": {},
     "output_type": "execute_result"
    }
   ],
   "source": [
    "df[\"outros_planos_financiamento\"].unique()"
   ]
  },
  {
   "cell_type": "code",
   "execution_count": 70,
   "id": "37499a9f-a1bd-47a6-b439-5643edeb149d",
   "metadata": {},
   "outputs": [
    {
     "data": {
      "text/html": [
       "<div>\n",
       "<style scoped>\n",
       "    .dataframe tbody tr th:only-of-type {\n",
       "        vertical-align: middle;\n",
       "    }\n",
       "\n",
       "    .dataframe tbody tr th {\n",
       "        vertical-align: top;\n",
       "    }\n",
       "\n",
       "    .dataframe thead th {\n",
       "        text-align: right;\n",
       "    }\n",
       "</style>\n",
       "<table border=\"1\" class=\"dataframe\">\n",
       "  <thead>\n",
       "    <tr style=\"text-align: right;\">\n",
       "      <th></th>\n",
       "      <th>default</th>\n",
       "      <th>conta_corrente</th>\n",
       "      <th>prazo_emprestimo_meses</th>\n",
       "      <th>historico_credito</th>\n",
       "      <th>proposito_emprestimo</th>\n",
       "      <th>valor_emprestimo</th>\n",
       "      <th>reserva_cc</th>\n",
       "      <th>tempo_emprego_atual</th>\n",
       "      <th>taxa_comp_salario</th>\n",
       "      <th>sexo_est_civil</th>\n",
       "      <th>...</th>\n",
       "      <th>anos_residencia_atual</th>\n",
       "      <th>propriedade</th>\n",
       "      <th>idade</th>\n",
       "      <th>outros_planos_financiamento</th>\n",
       "      <th>tipo_residencia</th>\n",
       "      <th>n_creditos_banco</th>\n",
       "      <th>status_emprego</th>\n",
       "      <th>n_dependentes</th>\n",
       "      <th>telefone</th>\n",
       "      <th>trabalhador_estrangeiro</th>\n",
       "    </tr>\n",
       "  </thead>\n",
       "  <tbody>\n",
       "    <tr>\n",
       "      <th>0</th>\n",
       "      <td>0</td>\n",
       "      <td>0</td>\n",
       "      <td>6</td>\n",
       "      <td>0</td>\n",
       "      <td>0</td>\n",
       "      <td>1169</td>\n",
       "      <td>0</td>\n",
       "      <td>0</td>\n",
       "      <td>4</td>\n",
       "      <td>0</td>\n",
       "      <td>...</td>\n",
       "      <td>4</td>\n",
       "      <td>0</td>\n",
       "      <td>67</td>\n",
       "      <td>0</td>\n",
       "      <td>own</td>\n",
       "      <td>2</td>\n",
       "      <td>skilled employee / official</td>\n",
       "      <td>1</td>\n",
       "      <td>yes, registered under the customers name</td>\n",
       "      <td>yes</td>\n",
       "    </tr>\n",
       "    <tr>\n",
       "      <th>1</th>\n",
       "      <td>1</td>\n",
       "      <td>1</td>\n",
       "      <td>48</td>\n",
       "      <td>1</td>\n",
       "      <td>0</td>\n",
       "      <td>5951</td>\n",
       "      <td>1</td>\n",
       "      <td>1</td>\n",
       "      <td>2</td>\n",
       "      <td>1</td>\n",
       "      <td>...</td>\n",
       "      <td>2</td>\n",
       "      <td>0</td>\n",
       "      <td>22</td>\n",
       "      <td>0</td>\n",
       "      <td>own</td>\n",
       "      <td>1</td>\n",
       "      <td>skilled employee / official</td>\n",
       "      <td>1</td>\n",
       "      <td>none</td>\n",
       "      <td>yes</td>\n",
       "    </tr>\n",
       "  </tbody>\n",
       "</table>\n",
       "<p>2 rows × 21 columns</p>\n",
       "</div>"
      ],
      "text/plain": [
       "   default  conta_corrente  prazo_emprestimo_meses  historico_credito  \\\n",
       "0        0               0                       6                  0   \n",
       "1        1               1                      48                  1   \n",
       "\n",
       "   proposito_emprestimo  valor_emprestimo  reserva_cc  tempo_emprego_atual  \\\n",
       "0                     0              1169           0                    0   \n",
       "1                     0              5951           1                    1   \n",
       "\n",
       "   taxa_comp_salario  sexo_est_civil  ... anos_residencia_atual  propriedade  \\\n",
       "0                  4               0  ...                     4            0   \n",
       "1                  2               1  ...                     2            0   \n",
       "\n",
       "   idade  outros_planos_financiamento  tipo_residencia n_creditos_banco  \\\n",
       "0     67                            0              own                2   \n",
       "1     22                            0              own                1   \n",
       "\n",
       "                status_emprego n_dependentes  \\\n",
       "0  skilled employee / official             1   \n",
       "1  skilled employee / official             1   \n",
       "\n",
       "                                    telefone trabalhador_estrangeiro  \n",
       "0  yes, registered under the customers name                      yes  \n",
       "1                                       none                     yes  \n",
       "\n",
       "[2 rows x 21 columns]"
      ]
     },
     "execution_count": 70,
     "metadata": {},
     "output_type": "execute_result"
    }
   ],
   "source": [
    "dic = {'none':0,'bank':1,'stores':2}\n",
    "df[\"outros_planos_financiamento\"] = df[\"outros_planos_financiamento\"].map(dic)\n",
    "df.head(2)"
   ]
  },
  {
   "cell_type": "code",
   "execution_count": 71,
   "id": "1af33a61-06e4-4a72-a846-a7730f902909",
   "metadata": {},
   "outputs": [
    {
     "data": {
      "text/plain": [
       "array(['own', 'for free', 'rent'], dtype=object)"
      ]
     },
     "execution_count": 71,
     "metadata": {},
     "output_type": "execute_result"
    }
   ],
   "source": [
    "df[\"tipo_residencia\"].unique()"
   ]
  },
  {
   "cell_type": "code",
   "execution_count": 72,
   "id": "bfa2f47c-0737-4214-9233-83abc41e0698",
   "metadata": {},
   "outputs": [],
   "source": [
    "dic = {'own':0,'for free':1,'rent':2}\n",
    "df[\"tipo_residencia\"] = df[\"tipo_residencia\"].map(dic)"
   ]
  },
  {
   "cell_type": "code",
   "execution_count": 73,
   "id": "0bc82d8b-4eae-4799-b262-db6c2ec015da",
   "metadata": {},
   "outputs": [
    {
     "data": {
      "text/plain": [
       "array(['skilled employee / official', 'unskilled - resident',\n",
       "       'management/ self-employed/ highly qualified employee/ officer',\n",
       "       'unemployed/ unskilled - non-resident'], dtype=object)"
      ]
     },
     "execution_count": 73,
     "metadata": {},
     "output_type": "execute_result"
    }
   ],
   "source": [
    "df[\"status_emprego\"].unique()"
   ]
  },
  {
   "cell_type": "code",
   "execution_count": 74,
   "id": "5fd2874b-b105-43aa-a106-eae56aacef86",
   "metadata": {},
   "outputs": [],
   "source": [
    "dic = {'skilled employee / official':0,'unskilled - resident':1,\n",
    "       'management/ self-employed/ highly qualified employee/ officer':2,\n",
    "       'unemployed/ unskilled - non-resident':3}\n",
    "df[\"status_emprego\"] = df[\"status_emprego\"].map(dic)"
   ]
  },
  {
   "cell_type": "code",
   "execution_count": 75,
   "id": "629fbb2d-299f-4ff3-9f3e-10dc2bf1005f",
   "metadata": {},
   "outputs": [
    {
     "data": {
      "text/plain": [
       "array(['yes, registered under the customers name ', 'none'], dtype=object)"
      ]
     },
     "execution_count": 75,
     "metadata": {},
     "output_type": "execute_result"
    }
   ],
   "source": [
    "df[\"telefone\"].unique()"
   ]
  },
  {
   "cell_type": "code",
   "execution_count": 76,
   "id": "7ea8e98d-cb32-4c8f-aac1-a322fd32e5ce",
   "metadata": {},
   "outputs": [],
   "source": [
    "dic = {'yes, registered under the customers name ':0,'none':1}\n",
    "df[\"telefone\"] = df[\"telefone\"].map(dic)"
   ]
  },
  {
   "cell_type": "code",
   "execution_count": 77,
   "id": "ad3b1e56-e242-4085-82a2-c648f963f39f",
   "metadata": {},
   "outputs": [],
   "source": [
    "dic = {'yes':0,'no':1}\n",
    "df[\"trabalhador_estrangeiro\"] = df[\"trabalhador_estrangeiro\"].map(dic)"
   ]
  },
  {
   "cell_type": "code",
   "execution_count": 78,
   "id": "b66f8c25-5077-458e-a02b-b5f721ec3a34",
   "metadata": {},
   "outputs": [
    {
     "data": {
      "text/html": [
       "<div>\n",
       "<style scoped>\n",
       "    .dataframe tbody tr th:only-of-type {\n",
       "        vertical-align: middle;\n",
       "    }\n",
       "\n",
       "    .dataframe tbody tr th {\n",
       "        vertical-align: top;\n",
       "    }\n",
       "\n",
       "    .dataframe thead th {\n",
       "        text-align: right;\n",
       "    }\n",
       "</style>\n",
       "<table border=\"1\" class=\"dataframe\">\n",
       "  <thead>\n",
       "    <tr style=\"text-align: right;\">\n",
       "      <th></th>\n",
       "      <th>default</th>\n",
       "      <th>conta_corrente</th>\n",
       "      <th>prazo_emprestimo_meses</th>\n",
       "      <th>historico_credito</th>\n",
       "      <th>proposito_emprestimo</th>\n",
       "      <th>valor_emprestimo</th>\n",
       "      <th>reserva_cc</th>\n",
       "      <th>tempo_emprego_atual</th>\n",
       "      <th>taxa_comp_salario</th>\n",
       "      <th>sexo_est_civil</th>\n",
       "      <th>...</th>\n",
       "      <th>anos_residencia_atual</th>\n",
       "      <th>propriedade</th>\n",
       "      <th>idade</th>\n",
       "      <th>outros_planos_financiamento</th>\n",
       "      <th>tipo_residencia</th>\n",
       "      <th>n_creditos_banco</th>\n",
       "      <th>status_emprego</th>\n",
       "      <th>n_dependentes</th>\n",
       "      <th>telefone</th>\n",
       "      <th>trabalhador_estrangeiro</th>\n",
       "    </tr>\n",
       "  </thead>\n",
       "  <tbody>\n",
       "    <tr>\n",
       "      <th>0</th>\n",
       "      <td>0</td>\n",
       "      <td>0</td>\n",
       "      <td>6</td>\n",
       "      <td>0</td>\n",
       "      <td>0</td>\n",
       "      <td>1169</td>\n",
       "      <td>0</td>\n",
       "      <td>0</td>\n",
       "      <td>4</td>\n",
       "      <td>0</td>\n",
       "      <td>...</td>\n",
       "      <td>4</td>\n",
       "      <td>0</td>\n",
       "      <td>67</td>\n",
       "      <td>0</td>\n",
       "      <td>0</td>\n",
       "      <td>2</td>\n",
       "      <td>0</td>\n",
       "      <td>1</td>\n",
       "      <td>0</td>\n",
       "      <td>0</td>\n",
       "    </tr>\n",
       "    <tr>\n",
       "      <th>1</th>\n",
       "      <td>1</td>\n",
       "      <td>1</td>\n",
       "      <td>48</td>\n",
       "      <td>1</td>\n",
       "      <td>0</td>\n",
       "      <td>5951</td>\n",
       "      <td>1</td>\n",
       "      <td>1</td>\n",
       "      <td>2</td>\n",
       "      <td>1</td>\n",
       "      <td>...</td>\n",
       "      <td>2</td>\n",
       "      <td>0</td>\n",
       "      <td>22</td>\n",
       "      <td>0</td>\n",
       "      <td>0</td>\n",
       "      <td>1</td>\n",
       "      <td>0</td>\n",
       "      <td>1</td>\n",
       "      <td>1</td>\n",
       "      <td>0</td>\n",
       "    </tr>\n",
       "  </tbody>\n",
       "</table>\n",
       "<p>2 rows × 21 columns</p>\n",
       "</div>"
      ],
      "text/plain": [
       "   default  conta_corrente  prazo_emprestimo_meses  historico_credito  \\\n",
       "0        0               0                       6                  0   \n",
       "1        1               1                      48                  1   \n",
       "\n",
       "   proposito_emprestimo  valor_emprestimo  reserva_cc  tempo_emprego_atual  \\\n",
       "0                     0              1169           0                    0   \n",
       "1                     0              5951           1                    1   \n",
       "\n",
       "   taxa_comp_salario  sexo_est_civil  ... anos_residencia_atual  propriedade  \\\n",
       "0                  4               0  ...                     4            0   \n",
       "1                  2               1  ...                     2            0   \n",
       "\n",
       "   idade  outros_planos_financiamento  tipo_residencia  n_creditos_banco  \\\n",
       "0     67                            0                0                 2   \n",
       "1     22                            0                0                 1   \n",
       "\n",
       "   status_emprego  n_dependentes  telefone  trabalhador_estrangeiro  \n",
       "0               0              1         0                        0  \n",
       "1               0              1         1                        0  \n",
       "\n",
       "[2 rows x 21 columns]"
      ]
     },
     "execution_count": 78,
     "metadata": {},
     "output_type": "execute_result"
    }
   ],
   "source": [
    "df.head(2)"
   ]
  },
  {
   "cell_type": "code",
   "execution_count": 79,
   "id": "ef7c7610-4b35-4dfb-ad79-4b7ec17b1abf",
   "metadata": {},
   "outputs": [],
   "source": [
    "#uma vez que nao temos mais variaveis categoricas,podemos aplicar a regressão logistica\n",
    "from sklearn.linear_model import LogisticRegression\n",
    "log_reg = LogisticRegression(max_iter=1000)"
   ]
  },
  {
   "cell_type": "code",
   "execution_count": 80,
   "id": "baef7695-f259-47e4-b1a7-5fe775519881",
   "metadata": {},
   "outputs": [
    {
     "data": {
      "text/plain": [
       "array(['none', 'guarantor', 'co-applicant'], dtype=object)"
      ]
     },
     "execution_count": 80,
     "metadata": {},
     "output_type": "execute_result"
    }
   ],
   "source": [
    "df[\"outros_fiadores\"].unique()"
   ]
  },
  {
   "cell_type": "code",
   "execution_count": 81,
   "id": "eccf6eab-77bb-4655-8552-1ad4294b39dc",
   "metadata": {},
   "outputs": [],
   "source": [
    "dic = {'none':0,'guarantor':1,'co-applicant':2}\n",
    "df[\"outros_fiadores\"] = df[\"outros_fiadores\"].map(dic)"
   ]
  },
  {
   "cell_type": "code",
   "execution_count": 82,
   "id": "2bfaa433-a69f-4b73-98ea-8c5e5c996c50",
   "metadata": {},
   "outputs": [
    {
     "name": "stdout",
     "output_type": "stream",
     "text": [
      "<class 'pandas.core.frame.DataFrame'>\n",
      "RangeIndex: 1000 entries, 0 to 999\n",
      "Data columns (total 21 columns):\n",
      " #   Column                       Non-Null Count  Dtype\n",
      "---  ------                       --------------  -----\n",
      " 0   default                      1000 non-null   int64\n",
      " 1   conta_corrente               1000 non-null   int64\n",
      " 2   prazo_emprestimo_meses       1000 non-null   int64\n",
      " 3   historico_credito            1000 non-null   int64\n",
      " 4   proposito_emprestimo         1000 non-null   int64\n",
      " 5   valor_emprestimo             1000 non-null   int64\n",
      " 6   reserva_cc                   1000 non-null   int64\n",
      " 7   tempo_emprego_atual          1000 non-null   int64\n",
      " 8   taxa_comp_salario            1000 non-null   int64\n",
      " 9   sexo_est_civil               1000 non-null   int64\n",
      " 10  outros_fiadores              1000 non-null   int64\n",
      " 11  anos_residencia_atual        1000 non-null   int64\n",
      " 12  propriedade                  1000 non-null   int64\n",
      " 13  idade                        1000 non-null   int64\n",
      " 14  outros_planos_financiamento  1000 non-null   int64\n",
      " 15  tipo_residencia              1000 non-null   int64\n",
      " 16  n_creditos_banco             1000 non-null   int64\n",
      " 17  status_emprego               1000 non-null   int64\n",
      " 18  n_dependentes                1000 non-null   int64\n",
      " 19  telefone                     1000 non-null   int64\n",
      " 20  trabalhador_estrangeiro      1000 non-null   int64\n",
      "dtypes: int64(21)\n",
      "memory usage: 164.2 KB\n"
     ]
    }
   ],
   "source": [
    "df.info()"
   ]
  },
  {
   "cell_type": "code",
   "execution_count": 83,
   "id": "84a94448-efab-467f-b397-d486e310649e",
   "metadata": {},
   "outputs": [],
   "source": [
    "from sklearn.linear_model import LogisticRegression\n",
    "from sklearn.model_selection import train_test_split\n",
    "log_reg = LogisticRegression(max_iter=1000)\n",
    "y = df[\"default\"]\n",
    "x = df.drop(columns=\"default\",axis=1)\n",
    "x_train,x_test,y_train,y_test = train_test_split(x,y,test_size=0.3,random_state=77)"
   ]
  },
  {
   "cell_type": "code",
   "execution_count": 84,
   "id": "067bc52e-0b12-4684-9131-43a6ae08240d",
   "metadata": {},
   "outputs": [
    {
     "data": {
      "text/plain": [
       "LogisticRegression(max_iter=1000)"
      ]
     },
     "execution_count": 84,
     "metadata": {},
     "output_type": "execute_result"
    }
   ],
   "source": [
    "log_reg.fit(x_train,y_train)"
   ]
  },
  {
   "cell_type": "code",
   "execution_count": 85,
   "id": "32bd526a-614c-4b65-8ae6-43cf92f05abb",
   "metadata": {},
   "outputs": [
    {
     "name": "stdout",
     "output_type": "stream",
     "text": [
      "0.74\n"
     ]
    }
   ],
   "source": [
    "print(log_reg.score(x_train,y_train))"
   ]
  },
  {
   "cell_type": "code",
   "execution_count": 86,
   "id": "b37ddaa1-0b42-48f0-be1a-0bc62c8c8708",
   "metadata": {},
   "outputs": [
    {
     "data": {
      "text/plain": [
       "array([0, 0, 0, 1, 0, 0, 0, 1, 0, 1, 0, 0, 0, 0, 1, 0, 0, 0, 0, 1, 0, 0,\n",
       "       0, 1, 0, 0, 0, 1, 0, 0, 0, 0, 0, 0, 0, 0, 0, 1, 0, 0, 0, 0, 0, 1,\n",
       "       1, 0, 0, 0, 1, 0, 0, 0, 1, 0, 0, 1, 0, 0, 1, 1, 0, 0, 0, 0, 0, 0,\n",
       "       1, 0, 1, 0, 0, 0, 1, 0, 0, 1, 1, 0, 1, 0, 1, 1, 0, 0, 0, 0, 0, 0,\n",
       "       0, 0, 0, 1, 0, 0, 0, 0, 1, 0, 0, 0, 0, 0, 1, 0, 0, 0, 0, 0, 0, 0,\n",
       "       0, 1, 0, 0, 0, 0, 1, 0, 0, 0, 0, 1, 0, 1, 0, 0, 0, 1, 0, 0, 0, 1,\n",
       "       0, 1, 1, 0, 0, 0, 0, 0, 0, 0, 0, 0, 1, 1, 1, 0, 0, 0, 0, 1, 0, 0,\n",
       "       0, 1, 0, 0, 0, 0, 0, 0, 0, 0, 1, 0, 1, 0, 0, 0, 0, 0, 0, 1, 0, 0,\n",
       "       0, 0, 0, 1, 1, 0, 1, 0, 0, 0, 0, 0, 0, 0, 0, 0, 0, 1, 1, 0, 0, 0,\n",
       "       1, 0, 0, 0, 0, 0, 0, 1, 0, 0, 0, 0, 0, 0, 0, 0, 0, 0, 0, 0, 0, 0,\n",
       "       0, 0, 0, 0, 0, 0, 0, 1, 0, 1, 0, 0, 0, 1, 1, 1, 0, 0, 0, 1, 0, 0,\n",
       "       0, 0, 0, 1, 0, 1, 0, 1, 0, 0, 0, 1, 0, 0, 0, 1, 0, 0, 0, 0, 0, 0,\n",
       "       0, 0, 0, 1, 0, 0, 1, 0, 0, 0, 0, 1, 0, 0, 0, 0, 0, 1, 0, 0, 0, 0,\n",
       "       0, 0, 0, 0, 0, 0, 0, 0, 1, 0, 1, 0, 1, 0])"
      ]
     },
     "execution_count": 86,
     "metadata": {},
     "output_type": "execute_result"
    }
   ],
   "source": [
    "previsoes = log_reg.predict(x_test)\n",
    "previsoes"
   ]
  },
  {
   "cell_type": "code",
   "execution_count": 87,
   "id": "77ddb323-4cd3-46b9-9324-43890febc04f",
   "metadata": {},
   "outputs": [
    {
     "data": {
      "text/plain": [
       "0.7833333333333333"
      ]
     },
     "execution_count": 87,
     "metadata": {},
     "output_type": "execute_result"
    }
   ],
   "source": [
    "from sklearn.metrics import accuracy_score\n",
    "acuracia = accuracy_score(y_test,previsoes)\n",
    "acuracia"
   ]
  },
  {
   "cell_type": "code",
   "execution_count": 88,
   "id": "a2685a17-d62e-4980-8ba6-e608dd2f8472",
   "metadata": {},
   "outputs": [
    {
     "name": "stdout",
     "output_type": "stream",
     "text": [
      "[[191  23]\n",
      " [ 42  44]]\n"
     ]
    }
   ],
   "source": [
    "from sklearn.metrics import confusion_matrix\n",
    "print(confusion_matrix(y_test,previsoes))"
   ]
  },
  {
   "cell_type": "code",
   "execution_count": 89,
   "id": "ba73b679-405c-439c-b7dd-3fb7ec751ad6",
   "metadata": {},
   "outputs": [
    {
     "name": "stdout",
     "output_type": "stream",
     "text": [
      "              precision    recall  f1-score   support\n",
      "\n",
      "           0       0.82      0.89      0.85       214\n",
      "           1       0.66      0.51      0.58        86\n",
      "\n",
      "    accuracy                           0.78       300\n",
      "   macro avg       0.74      0.70      0.71       300\n",
      "weighted avg       0.77      0.78      0.77       300\n",
      "\n"
     ]
    }
   ],
   "source": [
    "from sklearn.metrics import classification_report\n",
    "print(classification_report(y_test,previsoes))"
   ]
  },
  {
   "cell_type": "code",
   "execution_count": 90,
   "id": "b086fe64-94cd-4b6b-abaa-e683a4cd96d5",
   "metadata": {},
   "outputs": [
    {
     "name": "stdout",
     "output_type": "stream",
     "text": [
      "roc_auc 0.758150402086503\n"
     ]
    }
   ],
   "source": [
    "from sklearn.metrics import roc_curve,roc_auc_score\n",
    "previsao_prob = log_reg.predict_proba(x_test)[:,1]\n",
    "#tfp = taxa de falsos positivos,tvp = taxa verdadeiros ṕositivos\n",
    "tfp,tvp,limite = roc_curve(y_test,previsao_prob)\n",
    "print('roc_auc',roc_auc_score(y_test,previsao_prob))"
   ]
  },
  {
   "cell_type": "code",
   "execution_count": 91,
   "id": "541daaba-c110-4b72-99dc-6e0c04c7e105",
   "metadata": {},
   "outputs": [
    {
     "data": {
      "image/png": "[encoded data removed]",
      "text/plain": [
       "<Figure size 1000x500 with 1 Axes>"
      ]
     },
     "metadata": {},
     "output_type": "display_data"
    }
   ],
   "source": [
    "#plotando a curva roc\n",
    "plt.figure(figsize=(10,5))\n",
    "plt.title(\"ROC curve\")\n",
    "plt.plot(tfp,tvp)\n",
    "plt.xlabel(\"Especificidade\")\n",
    "plt.ylabel(\"Sensibilidade\")\n",
    "plt.show()"
   ]
  },
  {
   "cell_type": "code",
   "execution_count": 92,
   "id": "098fda22-d576-461e-baf9-5bd8abba7ad8",
   "metadata": {},
   "outputs": [
    {
     "data": {
      "text/plain": [
       "[(0, 'sexo_est_civil'), (1, 'prazo_emprestimo_meses'), (2, 'default')]"
      ]
     },
     "execution_count": 92,
     "metadata": {},
     "output_type": "execute_result"
    }
   ],
   "source": [
    "histogramas = [\"sexo_est_civil\",\"prazo_emprestimo_meses\",\"default\"]\n",
    "lista_histogramas = list(enumerate(histogramas))\n",
    "lista_histogramas"
   ]
  },
  {
   "cell_type": "code",
   "execution_count": 97,
   "id": "409749ab-b249-4772-89e3-2221cb95afc2",
   "metadata": {},
   "outputs": [
    {
     "data": {
      "image/png": "[encoded data removed]",
      "text/plain": [
       "<Figure size 3000x2000 with 3 Axes>"
      ]
     },
     "metadata": {},
     "output_type": "display_data"
    }
   ],
   "source": [
    "#plotando os histogramas\n",
    "plt.figure(figsize=(30,20))\n",
    "for i in lista_histogramas:\n",
    "    plt.subplot(2,2,i[0]+1)\n",
    "    sns.countplot(x=i[1],data=df)"
   ]
  },
  {
   "cell_type": "code",
   "execution_count": 98,
   "id": "8b7764ca-9d4f-4b7d-b6d9-23ae5a48bfca",
   "metadata": {},
   "outputs": [
    {
     "data": {
      "text/plain": [
       "<AxesSubplot:xlabel='sexo_est_civil', ylabel='idade'>"
      ]
     },
     "execution_count": 98,
     "metadata": {},
     "output_type": "execute_result"
    },
    {
     "data": {
      "image/png": "[encoded data removed]",
      "text/plain": [
       "<Figure size 2000x1000 with 1 Axes>"
      ]
     },
     "metadata": {},
     "output_type": "display_data"
    }
   ],
   "source": [
    "plt.figure(figsize=(20,10))\n",
    "sns.boxplot(x=\"sexo_est_civil\",y=\"idade\",data=df)"
   ]
  },
  {
   "cell_type": "code",
   "execution_count": null,
   "id": "49b7ffc9-cf75-4102-8ed8-5efaed2d1bc3",
   "metadata": {},
   "outputs": [],
   "source": []
  }
 ],
 "metadata": {
  "kernelspec": {
   "display_name": "Python 3 (ipykernel)",
   "language": "python",
   "name": "python3"
  },
  "language_info": {
   "codemirror_mode": {
    "name": "ipython",
    "version": 3
   },
   "file_extension": ".py",
   "mimetype": "text/x-python",
   "name": "python",
   "nbconvert_exporter": "python",
   "pygments_lexer": "ipython3",
   "version": "3.9.13"
  }
 },
 "nbformat": 4,
 "nbformat_minor": 5
}
