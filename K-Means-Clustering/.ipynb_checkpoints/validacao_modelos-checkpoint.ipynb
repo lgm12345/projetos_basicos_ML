{
 "cells": [
  {
   "cell_type": "code",
   "execution_count": 2,
   "id": "c9393f05-d4a8-46cc-9323-e1e195b42920",
   "metadata": {},
   "outputs": [],
   "source": [
    "import pandas as pd\n",
    "import matplotlib.pyplot as plt\n",
    "import seaborn as sns\n",
    "import numpy as np"
   ]
  },
  {
   "cell_type": "code",
   "execution_count": 3,
   "id": "2f4a7904-74a8-443a-88af-48ebe5a4c4ab",
   "metadata": {},
   "outputs": [
    {
     "data": {
      "text/html": [
       "<div>\n",
       "<style scoped>\n",
       "    .dataframe tbody tr th:only-of-type {\n",
       "        vertical-align: middle;\n",
       "    }\n",
       "\n",
       "    .dataframe tbody tr th {\n",
       "        vertical-align: top;\n",
       "    }\n",
       "\n",
       "    .dataframe thead th {\n",
       "        text-align: right;\n",
       "    }\n",
       "</style>\n",
       "<table border=\"1\" class=\"dataframe\">\n",
       "  <thead>\n",
       "    <tr style=\"text-align: right;\">\n",
       "      <th></th>\n",
       "      <th>preco</th>\n",
       "      <th>vendido</th>\n",
       "      <th>idade_do_modelo</th>\n",
       "      <th>km_por_ano</th>\n",
       "    </tr>\n",
       "  </thead>\n",
       "  <tbody>\n",
       "    <tr>\n",
       "      <th>0</th>\n",
       "      <td>30941.02</td>\n",
       "      <td>1</td>\n",
       "      <td>18</td>\n",
       "      <td>35085.22134</td>\n",
       "    </tr>\n",
       "    <tr>\n",
       "      <th>1</th>\n",
       "      <td>40557.96</td>\n",
       "      <td>1</td>\n",
       "      <td>20</td>\n",
       "      <td>12622.05362</td>\n",
       "    </tr>\n",
       "    <tr>\n",
       "      <th>2</th>\n",
       "      <td>89627.50</td>\n",
       "      <td>0</td>\n",
       "      <td>12</td>\n",
       "      <td>11440.79806</td>\n",
       "    </tr>\n",
       "    <tr>\n",
       "      <th>3</th>\n",
       "      <td>95276.14</td>\n",
       "      <td>0</td>\n",
       "      <td>3</td>\n",
       "      <td>43167.32682</td>\n",
       "    </tr>\n",
       "    <tr>\n",
       "      <th>4</th>\n",
       "      <td>117384.68</td>\n",
       "      <td>1</td>\n",
       "      <td>4</td>\n",
       "      <td>12770.11290</td>\n",
       "    </tr>\n",
       "  </tbody>\n",
       "</table>\n",
       "</div>"
      ],
      "text/plain": [
       "       preco  vendido  idade_do_modelo   km_por_ano\n",
       "0   30941.02        1               18  35085.22134\n",
       "1   40557.96        1               20  12622.05362\n",
       "2   89627.50        0               12  11440.79806\n",
       "3   95276.14        0                3  43167.32682\n",
       "4  117384.68        1                4  12770.11290"
      ]
     },
     "execution_count": 3,
     "metadata": {},
     "output_type": "execute_result"
    }
   ],
   "source": [
    "uri = \"https://gist.githubusercontent.com/guilhermesilveira/e99a526b2e7ccc6c3b70f53db43a87d2/raw/1605fc74aa778066bf2e6695e24d53cf65f2f447/machine-learning-carros-simulacao.csv\"\n",
    "dados = pd.read_csv(uri).drop(columns=[\"Unnamed: 0\"], axis=1)\n",
    "dados.head()"
   ]
  },
  {
   "cell_type": "code",
   "execution_count": 4,
   "id": "201758ba-b1c9-44d2-9810-1cead63ef3d4",
   "metadata": {},
   "outputs": [
    {
     "name": "stdout",
     "output_type": "stream",
     "text": [
      "<class 'pandas.core.frame.DataFrame'>\n",
      "RangeIndex: 10000 entries, 0 to 9999\n",
      "Data columns (total 4 columns):\n",
      " #   Column           Non-Null Count  Dtype  \n",
      "---  ------           --------------  -----  \n",
      " 0   preco            10000 non-null  float64\n",
      " 1   vendido          10000 non-null  int64  \n",
      " 2   idade_do_modelo  10000 non-null  int64  \n",
      " 3   km_por_ano       10000 non-null  float64\n",
      "dtypes: float64(2), int64(2)\n",
      "memory usage: 312.6 KB\n"
     ]
    }
   ],
   "source": [
    "dados.info()"
   ]
  },
  {
   "cell_type": "code",
   "execution_count": 4,
   "id": "757b3a79-385f-4655-a838-afcfff9b3c92",
   "metadata": {},
   "outputs": [
    {
     "data": {
      "text/html": [
       "<div>\n",
       "<style scoped>\n",
       "    .dataframe tbody tr th:only-of-type {\n",
       "        vertical-align: middle;\n",
       "    }\n",
       "\n",
       "    .dataframe tbody tr th {\n",
       "        vertical-align: top;\n",
       "    }\n",
       "\n",
       "    .dataframe thead th {\n",
       "        text-align: right;\n",
       "    }\n",
       "</style>\n",
       "<table border=\"1\" class=\"dataframe\">\n",
       "  <thead>\n",
       "    <tr style=\"text-align: right;\">\n",
       "      <th></th>\n",
       "      <th>preco</th>\n",
       "      <th>vendido</th>\n",
       "      <th>idade_do_modelo</th>\n",
       "      <th>km_por_ano</th>\n",
       "    </tr>\n",
       "  </thead>\n",
       "  <tbody>\n",
       "    <tr>\n",
       "      <th>count</th>\n",
       "      <td>10000.000000</td>\n",
       "      <td>10000.000000</td>\n",
       "      <td>10000.00000</td>\n",
       "      <td>10000.000000</td>\n",
       "    </tr>\n",
       "    <tr>\n",
       "      <th>mean</th>\n",
       "      <td>64842.373698</td>\n",
       "      <td>0.580000</td>\n",
       "      <td>13.85580</td>\n",
       "      <td>22825.898794</td>\n",
       "    </tr>\n",
       "    <tr>\n",
       "      <th>std</th>\n",
       "      <td>25250.592393</td>\n",
       "      <td>0.493583</td>\n",
       "      <td>4.68758</td>\n",
       "      <td>8060.494332</td>\n",
       "    </tr>\n",
       "    <tr>\n",
       "      <th>min</th>\n",
       "      <td>-840.360000</td>\n",
       "      <td>0.000000</td>\n",
       "      <td>1.00000</td>\n",
       "      <td>584.190420</td>\n",
       "    </tr>\n",
       "    <tr>\n",
       "      <th>25%</th>\n",
       "      <td>44796.375000</td>\n",
       "      <td>0.000000</td>\n",
       "      <td>11.00000</td>\n",
       "      <td>16857.434165</td>\n",
       "    </tr>\n",
       "    <tr>\n",
       "      <th>50%</th>\n",
       "      <td>65225.685000</td>\n",
       "      <td>1.000000</td>\n",
       "      <td>15.00000</td>\n",
       "      <td>21594.928790</td>\n",
       "    </tr>\n",
       "    <tr>\n",
       "      <th>75%</th>\n",
       "      <td>85111.237500</td>\n",
       "      <td>1.000000</td>\n",
       "      <td>18.00000</td>\n",
       "      <td>27643.230845</td>\n",
       "    </tr>\n",
       "    <tr>\n",
       "      <th>max</th>\n",
       "      <td>118929.720000</td>\n",
       "      <td>1.000000</td>\n",
       "      <td>20.00000</td>\n",
       "      <td>63684.802480</td>\n",
       "    </tr>\n",
       "  </tbody>\n",
       "</table>\n",
       "</div>"
      ],
      "text/plain": [
       "               preco       vendido  idade_do_modelo    km_por_ano\n",
       "count   10000.000000  10000.000000      10000.00000  10000.000000\n",
       "mean    64842.373698      0.580000         13.85580  22825.898794\n",
       "std     25250.592393      0.493583          4.68758   8060.494332\n",
       "min      -840.360000      0.000000          1.00000    584.190420\n",
       "25%     44796.375000      0.000000         11.00000  16857.434165\n",
       "50%     65225.685000      1.000000         15.00000  21594.928790\n",
       "75%     85111.237500      1.000000         18.00000  27643.230845\n",
       "max    118929.720000      1.000000         20.00000  63684.802480"
      ]
     },
     "execution_count": 4,
     "metadata": {},
     "output_type": "execute_result"
    }
   ],
   "source": [
    "dados.describe()"
   ]
  },
  {
   "cell_type": "code",
   "execution_count": 8,
   "id": "fdfd293e-cba5-4cdb-a9f7-df7872a3a477",
   "metadata": {},
   "outputs": [],
   "source": [
    "from sklearn.model_selection import train_test_split\n",
    "from sklearn.model_selection import cross_validate\n",
    "from sklearn.metrics import accuracy_score\n",
    "x = dados.drop(columns=\"vendido\",axis=1)\n",
    "y = dados[[\"vendido\"]]\n",
    "x_train,x_test,y_train,y_test = train_test_split(x,y,test_size=0.25,random_state=101)\n",
    "#divisao simples dos dados de treino e test,tal divisão é muito suscetível à aleatoriedade"
   ]
  },
  {
   "cell_type": "code",
   "execution_count": 11,
   "id": "bfe02973-ecd8-4a85-b089-403295b503e3",
   "metadata": {},
   "outputs": [
    {
     "name": "stdout",
     "output_type": "stream",
     "text": [
      "0.7636\n"
     ]
    }
   ],
   "source": [
    "#treinando um arvore para servir de exemplo\n",
    "from sklearn.tree import DecisionTreeClassifier\n",
    "SEED = 158020\n",
    "modelo = DecisionTreeClassifier(max_depth=2)\n",
    "modelo.fit(x_train,y_train)\n",
    "previsoes = modelo.predict(x_test)\n",
    "print(accuracy_score(y_test,previsoes))\n",
    "#o uso de diferentes valores para a seed implica em diferentes valores da acuracia\n",
    "#do modelo,o que indica a influencia da aleatoriedade"
   ]
  },
  {
   "cell_type": "code",
   "execution_count": 18,
   "id": "ac4e5a46-01cf-4513-ab7f-d13ecb252870",
   "metadata": {},
   "outputs": [
    {
     "data": {
      "text/plain": [
       "{'fit_time': array([0.02907586, 0.01404905, 0.01370788, 0.0118444 , 0.01252556,\n",
       "        0.01117134, 0.01496458, 0.01087928, 0.01068377, 0.01090002]),\n",
       " 'score_time': array([0.00479865, 0.00274396, 0.00297022, 0.00667238, 0.00243711,\n",
       "        0.00225163, 0.00276065, 0.00221133, 0.00206971, 0.00218582]),\n",
       " 'test_score': array([0.742, 0.77 , 0.749, 0.764, 0.761, 0.764, 0.754, 0.755, 0.759,\n",
       "        0.76 ])}"
      ]
     },
     "execution_count": 18,
     "metadata": {},
     "output_type": "execute_result"
    }
   ],
   "source": [
    "#usando o cross_validate para diminuir a influencia da aleatoriedade\n",
    "modelo = DecisionTreeClassifier(max_depth=2)\n",
    "resultados = cross_validate(modelo,x,y,cv=10)\n",
    "resultados\n",
    "#os resultados da acuracia para cada  um dos testes podem ser vistos em \"test_score\""
   ]
  },
  {
   "cell_type": "code",
   "execution_count": 19,
   "id": "a81b494c-c283-4f36-b3f5-de268415a6cc",
   "metadata": {},
   "outputs": [
    {
     "name": "stdout",
     "output_type": "stream",
     "text": [
      "[0.7424168923815764, 0.7731831076184235]\n"
     ]
    }
   ],
   "source": [
    "#atraves da coluna test_score podemos extrair o \"intervalo de confiança\n",
    "#basta fazer a media+- duas vezes o desvio padrao\n",
    "media = resultados[\"test_score\"].mean()\n",
    "desvio_padrao = resultados[\"test_score\"].std()\n",
    "desvio_padrao\n",
    "extremo_inferior = media - 2*desvio_padrao\n",
    "extremo_superior = media + 2*desvio_padrao\n",
    "intervalo = [extremo_inferior,extremo_superior]\n",
    "print(intervalo)"
   ]
  },
  {
   "cell_type": "code",
   "execution_count": 21,
   "id": "905aa38b-cccd-42ea-96d1-f9928fe1bfbe",
   "metadata": {},
   "outputs": [
    {
     "name": "stdout",
     "output_type": "stream",
     "text": [
      "[0.7339035567500098, 0.7816964432499902]\n"
     ]
    }
   ],
   "source": [
    "#utilizando o KFold para inserir a aleatoriedade no cross_validate\n",
    "#o KFold possuir um parametro que insere a aleatoriedade(embaralha os dados)\n",
    "from sklearn.model_selection import KFold\n",
    "cv = KFold(n_splits=10,shuffle=True)\n",
    "modelo = DecisionTreeClassifier(max_depth=2)\n",
    "resultados = cross_validate(modelo,x,y,cv=cv)\n",
    "media = resultados[\"test_score\"].mean()\n",
    "desvio_padrao = resultados[\"test_score\"].std()\n",
    "desvio_padrao\n",
    "extremo_inferior = media - 2*desvio_padrao\n",
    "extremo_superior = media + 2*desvio_padrao\n",
    "intervalo = [extremo_inferior,extremo_superior]\n",
    "print(intervalo)"
   ]
  },
  {
   "cell_type": "code",
   "execution_count": 23,
   "id": "161c64d9-a728-454b-8e17-f942c8ed1b79",
   "metadata": {},
   "outputs": [
    {
     "name": "stdout",
     "output_type": "stream",
     "text": [
      "[0.7278827808778957, 0.7877172191221044]\n"
     ]
    }
   ],
   "source": [
    "#utilizando a estratificação para corrigir o problema de desbalanceamento dos dados\n",
    "#podemos usar o parametro \"stratified\" do train_test_split,ou usar o stratified_kfold\n",
    "from sklearn.model_selection import StratifiedKFold\n",
    "cv = StratifiedKFold(n_splits=10,shuffle=True)\n",
    "modelo = DecisionTreeClassifier(max_depth=2)\n",
    "resultados = cross_validate(modelo,x,y,cv=cv)\n",
    "media = resultados[\"test_score\"].mean()\n",
    "desvio_padrao = resultados[\"test_score\"].std()\n",
    "extremo_inferior = media - 2*desvio_padrao\n",
    "extremo_superior = media + 2*desvio_padrao\n",
    "intervalo = [extremo_inferior,extremo_superior]\n",
    "print(intervalo)"
   ]
  },
  {
   "cell_type": "code",
   "execution_count": 25,
   "id": "51d8a86b-f506-405f-9760-3d3139ed0233",
   "metadata": {},
   "outputs": [
    {
     "data": {
      "text/plain": [
       "array([17, 21, 10,  5, 16, 12, 14,  1, 19,  8,  3,  7, 20, 18, 15,  9, 13,\n",
       "       11,  4,  6, 22,  2,  0, -1])"
      ]
     },
     "execution_count": 25,
     "metadata": {},
     "output_type": "execute_result"
    }
   ],
   "source": [
    "#criando uma nova coluna com dados \"aleatorios\" para o modelo do carro\n",
    "#a criaçao dessa coluna permite uma maior separação entre os dados\n",
    "dados[\"modelo\"] = dados[\"idade_do_modelo\"] + np.random.randint(-2,3,size=10000)\n",
    "dados[\"modelo\"].unique()"
   ]
  },
  {
   "cell_type": "code",
   "execution_count": 27,
   "id": "b9f59df4-d5e4-47a8-8a5a-8e49fefa5e39",
   "metadata": {},
   "outputs": [
    {
     "data": {
      "text/plain": [
       "array([19, 23, 12,  7, 18, 14, 16,  3, 21, 10,  5,  9, 22, 20, 17, 11, 15,\n",
       "       13,  6,  8, 24,  4,  2,  1])"
      ]
     },
     "execution_count": 27,
     "metadata": {},
     "output_type": "execute_result"
    }
   ],
   "source": [
    "#somaremos 1 em cada dado para trabalharmos somente com valores não negativos\n",
    "dados[\"modelo\"] = dados[\"modelo\"] + abs(dados[\"modelo\"].min()) + 1\n",
    "dados[\"modelo\"].unique()"
   ]
  },
  {
   "cell_type": "code",
   "execution_count": 32,
   "id": "983671fb-0eed-4260-b0ea-542d33e563ee",
   "metadata": {},
   "outputs": [
    {
     "data": {
      "text/html": [
       "<div>\n",
       "<style scoped>\n",
       "    .dataframe tbody tr th:only-of-type {\n",
       "        vertical-align: middle;\n",
       "    }\n",
       "\n",
       "    .dataframe tbody tr th {\n",
       "        vertical-align: top;\n",
       "    }\n",
       "\n",
       "    .dataframe thead th {\n",
       "        text-align: right;\n",
       "    }\n",
       "</style>\n",
       "<table border=\"1\" class=\"dataframe\">\n",
       "  <thead>\n",
       "    <tr style=\"text-align: right;\">\n",
       "      <th></th>\n",
       "      <th>preco</th>\n",
       "      <th>idade_do_modelo</th>\n",
       "      <th>km_por_ano</th>\n",
       "    </tr>\n",
       "  </thead>\n",
       "  <tbody>\n",
       "    <tr>\n",
       "      <th>0</th>\n",
       "      <td>30941.02</td>\n",
       "      <td>18</td>\n",
       "      <td>35085.22134</td>\n",
       "    </tr>\n",
       "    <tr>\n",
       "      <th>1</th>\n",
       "      <td>40557.96</td>\n",
       "      <td>20</td>\n",
       "      <td>12622.05362</td>\n",
       "    </tr>\n",
       "  </tbody>\n",
       "</table>\n",
       "</div>"
      ],
      "text/plain": [
       "      preco  idade_do_modelo   km_por_ano\n",
       "0  30941.02               18  35085.22134\n",
       "1  40557.96               20  12622.05362"
      ]
     },
     "execution_count": 32,
     "metadata": {},
     "output_type": "execute_result"
    }
   ],
   "source": [
    "y = dados[\"vendido\"]\n",
    "x = dados.drop(columns=[\"vendido\",\"modelo\"],axis=1)\n",
    "x.head(2)"
   ]
  },
  {
   "cell_type": "code",
   "execution_count": null,
   "id": "cd75a608-cba5-4771-8cd6-e167d20a718e",
   "metadata": {},
   "outputs": [],
   "source": [
    "#quando utilizamos o kfold e o stratifiedkfold,os dados de treino e de teste\n",
    "#possuem todos os grupos de carro,o que não é bom,precisamos analisar o desempenho\n",
    "#do modelo quando este for confrontado com modelos não vistos ainda\n",
    "#para solucionar esse problema utilizaremos o groupkfold"
   ]
  },
  {
   "cell_type": "code",
   "execution_count": 39,
   "id": "cc658155-6e8c-4a72-b5b9-0a439f74644a",
   "metadata": {},
   "outputs": [
    {
     "name": "stdout",
     "output_type": "stream",
     "text": [
      "[0.7157676757459434, 0.800029614260877]\n",
      "0.7578986450034102\n"
     ]
    }
   ],
   "source": [
    "from sklearn.model_selection import GroupKFold\n",
    "cv = GroupKFold(n_splits=10)\n",
    "modelo = DecisionTreeClassifier(max_depth=2)\n",
    "resultados = cross_validate(modelo,x,y,cv=cv,groups=dados[\"modelo\"])\n",
    "media = resultados[\"test_score\"].mean()\n",
    "desvio_padrao = resultados[\"test_score\"].std()\n",
    "desvio_padrao\n",
    "extremo_inferior = media - 2*desvio_padrao\n",
    "extremo_superior = media + 2*desvio_padrao\n",
    "intervalo = [extremo_inferior,extremo_superior]\n",
    "print(intervalo)\n",
    "print(media)"
   ]
  }
 ],
 "metadata": {
  "kernelspec": {
   "display_name": "Python 3 (ipykernel)",
   "language": "python",
   "name": "python3"
  },
  "language_info": {
   "codemirror_mode": {
    "name": "ipython",
    "version": 3
   },
   "file_extension": ".py",
   "mimetype": "text/x-python",
   "name": "python",
   "nbconvert_exporter": "python",
   "pygments_lexer": "ipython3",
   "version": "3.9.13"
  }
 },
 "nbformat": 4,
 "nbformat_minor": 5
}
